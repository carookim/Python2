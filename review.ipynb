{
 "cells": [
  {
   "cell_type": "markdown",
   "id": "8ca8f376",
   "metadata": {},
   "source": [
    "##### 선형 다항 회귀 (선형 vs 과적합)\n",
    "- 입력 x, 다항 특성으로 변환 x + X^2 + x^3 .. X^d\n",
    "- 선형모델(가중치 벡터)로 예측(다항회귀.. 사실상 선형회귀 다만 입력값이 다항으로 변환)\n",
    "- 손실 : MSE + L2 규제(Ridge)\n",
    "- 작은 데이터 10개 만들어서 degree = 1, degree = 10 : 선형 vs 고차원"
   ]
  },
  {
   "cell_type": "code",
   "execution_count": null,
   "id": "9941e180",
   "metadata": {},
   "outputs": [
    {
     "ename": "SyntaxError",
     "evalue": "invalid syntax (3572458608.py, line 25)",
     "output_type": "error",
     "traceback": [
      "  \u001b[36mCell\u001b[39m\u001b[36m \u001b[39m\u001b[32mIn[7]\u001b[39m\u001b[32m, line 25\u001b[39m\n\u001b[31m    \u001b[39m\u001b[31mdef poly_feature(Xm degree):\u001b[39m\n                        ^\n\u001b[31mSyntaxError\u001b[39m\u001b[31m:\u001b[39m invalid syntax\n"
     ]
    }
   ],
   "source": [
    "import numpy as np\n",
    "def f(x):\n",
    "    return 0.5 * x\n",
    "X_plot = np.linspace(-10,10,200)\n",
    "X = np.linspace(-10,10,100)\n",
    "rng = np.random.RandomState(0)\n",
    "rng.shuffle(X)\n",
    "X = np.sort(X[:10])\n",
    "noise = [(-2 + np.random.random())*2 for _ in range(len(X))]\n",
    "y = X + noise\n",
    "\n",
    "# numpy -> tensor\n",
    "X_train_np = X[:,None]\n",
    "y_train_np = y[:,None]\n",
    "X_plot_np = X_plot[:,None]\n",
    "\n",
    "import torch\n",
    "device = 'cuda' if torch.cuda.is_available() else 'cpu'\n",
    "\n",
    "X_train = torch.tensor(X_train_np, dtype=torch.float32, device=device)\n",
    "y_train = torch.tensor(y_train_np,dtype=torch.float32, device=device)\n",
    "X_plot = torch.tensor(X_plot_np,dtype=torch.float32, device=device)\n",
    "\n",
    "# 다항 특징 생성\n",
    "def poly_feature(Xm degree):\n",
    "    '''\n",
    "        X : torch tensor( N , 1 )\n",
    "        반환 : ( N , degree+1 )\n",
    "    '''\n",
    "    "
   ]
  },
  {
   "cell_type": "code",
   "execution_count": null,
   "id": "7442950f",
   "metadata": {},
   "outputs": [],
   "source": []
  }
 ],
 "metadata": {
  "kernelspec": {
   "display_name": ".venv",
   "language": "python",
   "name": "python3"
  },
  "language_info": {
   "codemirror_mode": {
    "name": "ipython",
    "version": 3
   },
   "file_extension": ".py",
   "mimetype": "text/x-python",
   "name": "python",
   "nbconvert_exporter": "python",
   "pygments_lexer": "ipython3",
   "version": "3.13.7"
  }
 },
 "nbformat": 4,
 "nbformat_minor": 5
}
