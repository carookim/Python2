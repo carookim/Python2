{
  "cells": [
    {
      "cell_type": "code",
      "execution_count": 2,
      "metadata": {},
      "outputs": [
        {
          "name": "stdout",
          "output_type": "stream",
          "text": [
            "Collecting tensorflow\n",
            "  Using cached tensorflow-2.20.0-cp313-cp313-win_amd64.whl.metadata (4.6 kB)\n",
            "Collecting absl-py>=1.0.0 (from tensorflow)\n",
            "  Using cached absl_py-2.3.1-py3-none-any.whl.metadata (3.3 kB)\n",
            "Collecting astunparse>=1.6.0 (from tensorflow)\n",
            "  Using cached astunparse-1.6.3-py2.py3-none-any.whl.metadata (4.4 kB)\n",
            "Collecting flatbuffers>=24.3.25 (from tensorflow)\n",
            "  Using cached flatbuffers-25.9.23-py2.py3-none-any.whl.metadata (875 bytes)\n",
            "Collecting gast!=0.5.0,!=0.5.1,!=0.5.2,>=0.2.1 (from tensorflow)\n",
            "  Using cached gast-0.6.0-py3-none-any.whl.metadata (1.3 kB)\n",
            "Collecting google_pasta>=0.1.1 (from tensorflow)\n",
            "  Using cached google_pasta-0.2.0-py3-none-any.whl.metadata (814 bytes)\n",
            "Collecting libclang>=13.0.0 (from tensorflow)\n",
            "  Using cached libclang-18.1.1-py2.py3-none-win_amd64.whl.metadata (5.3 kB)\n",
            "Collecting opt_einsum>=2.3.2 (from tensorflow)\n",
            "  Using cached opt_einsum-3.4.0-py3-none-any.whl.metadata (6.3 kB)\n",
            "Requirement already satisfied: packaging in c:\\users\\playdata2\\miniconda3\\lib\\site-packages (from tensorflow) (25.0)\n",
            "Collecting protobuf>=5.28.0 (from tensorflow)\n",
            "  Using cached protobuf-6.33.0-cp310-abi3-win_amd64.whl.metadata (593 bytes)\n",
            "Requirement already satisfied: requests<3,>=2.21.0 in c:\\users\\playdata2\\miniconda3\\lib\\site-packages (from tensorflow) (2.32.4)\n",
            "Requirement already satisfied: setuptools in c:\\users\\playdata2\\miniconda3\\lib\\site-packages (from tensorflow) (80.9.0)\n",
            "Requirement already satisfied: six>=1.12.0 in c:\\users\\playdata2\\miniconda3\\lib\\site-packages (from tensorflow) (1.17.0)\n",
            "Collecting termcolor>=1.1.0 (from tensorflow)\n",
            "  Using cached termcolor-3.2.0-py3-none-any.whl.metadata (6.4 kB)\n",
            "Requirement already satisfied: typing_extensions>=3.6.6 in c:\\users\\playdata2\\miniconda3\\lib\\site-packages (from tensorflow) (4.12.2)\n",
            "Collecting wrapt>=1.11.0 (from tensorflow)\n",
            "  Using cached wrapt-2.0.0-cp313-cp313-win_amd64.whl.metadata (9.0 kB)\n",
            "Collecting grpcio<2.0,>=1.24.3 (from tensorflow)\n",
            "  Using cached grpcio-1.76.0-cp313-cp313-win_amd64.whl.metadata (3.8 kB)\n",
            "Collecting tensorboard~=2.20.0 (from tensorflow)\n",
            "  Using cached tensorboard-2.20.0-py3-none-any.whl.metadata (1.8 kB)\n",
            "Collecting keras>=3.10.0 (from tensorflow)\n",
            "  Using cached keras-3.12.0-py3-none-any.whl.metadata (5.9 kB)\n",
            "Requirement already satisfied: numpy>=1.26.0 in c:\\users\\playdata2\\miniconda3\\lib\\site-packages (from tensorflow) (2.3.3)\n",
            "Collecting h5py>=3.11.0 (from tensorflow)\n",
            "  Using cached h5py-3.15.1-cp313-cp313-win_amd64.whl.metadata (3.1 kB)\n",
            "Collecting ml_dtypes<1.0.0,>=0.5.1 (from tensorflow)\n",
            "  Using cached ml_dtypes-0.5.3-cp313-cp313-win_amd64.whl.metadata (9.2 kB)\n",
            "Requirement already satisfied: charset_normalizer<4,>=2 in c:\\users\\playdata2\\miniconda3\\lib\\site-packages (from requests<3,>=2.21.0->tensorflow) (3.3.2)\n",
            "Requirement already satisfied: idna<4,>=2.5 in c:\\users\\playdata2\\miniconda3\\lib\\site-packages (from requests<3,>=2.21.0->tensorflow) (3.7)\n",
            "Requirement already satisfied: urllib3<3,>=1.21.1 in c:\\users\\playdata2\\miniconda3\\lib\\site-packages (from requests<3,>=2.21.0->tensorflow) (2.5.0)\n",
            "Requirement already satisfied: certifi>=2017.4.17 in c:\\users\\playdata2\\miniconda3\\lib\\site-packages (from requests<3,>=2.21.0->tensorflow) (2025.10.5)\n",
            "Collecting markdown>=2.6.8 (from tensorboard~=2.20.0->tensorflow)\n",
            "  Using cached markdown-3.9-py3-none-any.whl.metadata (5.1 kB)\n",
            "Requirement already satisfied: pillow in c:\\users\\playdata2\\miniconda3\\lib\\site-packages (from tensorboard~=2.20.0->tensorflow) (11.1.0)\n",
            "Collecting tensorboard-data-server<0.8.0,>=0.7.0 (from tensorboard~=2.20.0->tensorflow)\n",
            "  Using cached tensorboard_data_server-0.7.2-py3-none-any.whl.metadata (1.1 kB)\n",
            "Collecting werkzeug>=1.0.1 (from tensorboard~=2.20.0->tensorflow)\n",
            "  Using cached werkzeug-3.1.3-py3-none-any.whl.metadata (3.7 kB)\n",
            "Requirement already satisfied: wheel<1.0,>=0.23.0 in c:\\users\\playdata2\\miniconda3\\lib\\site-packages (from astunparse>=1.6.0->tensorflow) (0.45.1)\n",
            "Requirement already satisfied: rich in c:\\users\\playdata2\\miniconda3\\lib\\site-packages (from keras>=3.10.0->tensorflow) (13.9.4)\n",
            "Collecting namex (from keras>=3.10.0->tensorflow)\n",
            "  Using cached namex-0.1.0-py3-none-any.whl.metadata (322 bytes)\n",
            "Collecting optree (from keras>=3.10.0->tensorflow)\n",
            "  Using cached optree-0.17.0-cp313-cp313-win_amd64.whl.metadata (34 kB)\n",
            "Requirement already satisfied: MarkupSafe>=2.1.1 in c:\\users\\playdata2\\miniconda3\\lib\\site-packages (from werkzeug>=1.0.1->tensorboard~=2.20.0->tensorflow) (3.0.3)\n",
            "Requirement already satisfied: markdown-it-py>=2.2.0 in c:\\users\\playdata2\\miniconda3\\lib\\site-packages (from rich->keras>=3.10.0->tensorflow) (2.2.0)\n",
            "Requirement already satisfied: pygments<3.0.0,>=2.13.0 in c:\\users\\playdata2\\miniconda3\\lib\\site-packages (from rich->keras>=3.10.0->tensorflow) (2.19.1)\n",
            "Requirement already satisfied: mdurl~=0.1 in c:\\users\\playdata2\\miniconda3\\lib\\site-packages (from markdown-it-py>=2.2.0->rich->keras>=3.10.0->tensorflow) (0.1.0)\n",
            "Using cached tensorflow-2.20.0-cp313-cp313-win_amd64.whl (332.0 MB)\n",
            "Using cached grpcio-1.76.0-cp313-cp313-win_amd64.whl (4.7 MB)\n",
            "Using cached ml_dtypes-0.5.3-cp313-cp313-win_amd64.whl (208 kB)\n",
            "Using cached tensorboard-2.20.0-py3-none-any.whl (5.5 MB)\n",
            "Using cached tensorboard_data_server-0.7.2-py3-none-any.whl (2.4 kB)\n",
            "Using cached absl_py-2.3.1-py3-none-any.whl (135 kB)\n",
            "Using cached astunparse-1.6.3-py2.py3-none-any.whl (12 kB)\n",
            "Using cached flatbuffers-25.9.23-py2.py3-none-any.whl (30 kB)\n",
            "Using cached gast-0.6.0-py3-none-any.whl (21 kB)\n",
            "Using cached google_pasta-0.2.0-py3-none-any.whl (57 kB)\n",
            "Using cached h5py-3.15.1-cp313-cp313-win_amd64.whl (2.9 MB)\n",
            "Using cached keras-3.12.0-py3-none-any.whl (1.5 MB)\n",
            "Using cached libclang-18.1.1-py2.py3-none-win_amd64.whl (26.4 MB)\n",
            "Using cached markdown-3.9-py3-none-any.whl (107 kB)\n",
            "Using cached opt_einsum-3.4.0-py3-none-any.whl (71 kB)\n",
            "Using cached protobuf-6.33.0-cp310-abi3-win_amd64.whl (436 kB)\n",
            "Using cached termcolor-3.2.0-py3-none-any.whl (7.7 kB)\n",
            "Using cached werkzeug-3.1.3-py3-none-any.whl (224 kB)\n",
            "Using cached wrapt-2.0.0-cp313-cp313-win_amd64.whl (60 kB)\n",
            "Using cached namex-0.1.0-py3-none-any.whl (5.9 kB)\n",
            "Using cached optree-0.17.0-cp313-cp313-win_amd64.whl (316 kB)\n",
            "Installing collected packages: namex, libclang, flatbuffers, wrapt, werkzeug, termcolor, tensorboard-data-server, protobuf, optree, opt_einsum, ml_dtypes, markdown, h5py, grpcio, google_pasta, gast, astunparse, absl-py, tensorboard, keras, tensorflow\n",
            "\n",
            "   - --------------------------------------  1/21 [libclang]\n",
            "   - --------------------------------------  1/21 [libclang]\n",
            "   ----- ----------------------------------  3/21 [wrapt]\n",
            "   ------- --------------------------------  4/21 [werkzeug]\n",
            "   --------- ------------------------------  5/21 [termcolor]\n",
            "   ------------- --------------------------  7/21 [protobuf]\n",
            "   --------------- ------------------------  8/21 [optree]\n",
            "   ----------------- ----------------------  9/21 [opt_einsum]\n",
            "   -------------------- ------------------- 11/21 [markdown]\n",
            "   ---------------------- ----------------- 12/21 [h5py]\n",
            "   ---------------------- ----------------- 12/21 [h5py]\n",
            "   ------------------------ --------------- 13/21 [grpcio]\n",
            "   ------------------------ --------------- 13/21 [grpcio]\n",
            "   -------------------------- ------------- 14/21 [google_pasta]\n",
            "   ---------------------------- ----------- 15/21 [gast]\n",
            "   -------------------------------- ------- 17/21 [absl-py]\n",
            "   ---------------------------------- ----- 18/21 [tensorboard]\n",
            "   ---------------------------------- ----- 18/21 [tensorboard]\n",
            "   ---------------------------------- ----- 18/21 [tensorboard]\n",
            "   ---------------------------------- ----- 18/21 [tensorboard]\n",
            "   ---------------------------------- ----- 18/21 [tensorboard]\n",
            "   ---------------------------------- ----- 18/21 [tensorboard]\n",
            "   ------------------------------------ --- 19/21 [keras]\n",
            "   ------------------------------------ --- 19/21 [keras]\n",
            "   ------------------------------------ --- 19/21 [keras]\n",
            "   ------------------------------------ --- 19/21 [keras]\n",
            "   ------------------------------------ --- 19/21 [keras]\n",
            "   ------------------------------------ --- 19/21 [keras]\n",
            "   ------------------------------------ --- 19/21 [keras]\n",
            "   ------------------------------------ --- 19/21 [keras]\n",
            "   ------------------------------------ --- 19/21 [keras]\n",
            "   ------------------------------------ --- 19/21 [keras]\n",
            "   ------------------------------------ --- 19/21 [keras]\n",
            "   ------------------------------------ --- 19/21 [keras]\n",
            "   ------------------------------------ --- 19/21 [keras]\n",
            "   ------------------------------------ --- 19/21 [keras]\n",
            "   ------------------------------------ --- 19/21 [keras]\n",
            "   ------------------------------------ --- 19/21 [keras]\n",
            "   -------------------------------------- - 20/21 [tensorflow]\n",
            "   -------------------------------------- - 20/21 [tensorflow]\n",
            "   -------------------------------------- - 20/21 [tensorflow]\n",
            "   -------------------------------------- - 20/21 [tensorflow]\n",
            "   -------------------------------------- - 20/21 [tensorflow]\n",
            "   -------------------------------------- - 20/21 [tensorflow]\n",
            "   -------------------------------------- - 20/21 [tensorflow]\n",
            "   -------------------------------------- - 20/21 [tensorflow]\n",
            "   -------------------------------------- - 20/21 [tensorflow]\n",
            "   -------------------------------------- - 20/21 [tensorflow]\n",
            "   -------------------------------------- - 20/21 [tensorflow]\n",
            "   -------------------------------------- - 20/21 [tensorflow]\n",
            "   -------------------------------------- - 20/21 [tensorflow]\n",
            "   -------------------------------------- - 20/21 [tensorflow]\n",
            "   -------------------------------------- - 20/21 [tensorflow]\n",
            "   -------------------------------------- - 20/21 [tensorflow]\n",
            "   -------------------------------------- - 20/21 [tensorflow]\n",
            "   -------------------------------------- - 20/21 [tensorflow]\n",
            "   -------------------------------------- - 20/21 [tensorflow]\n",
            "   -------------------------------------- - 20/21 [tensorflow]\n",
            "   -------------------------------------- - 20/21 [tensorflow]\n",
            "   -------------------------------------- - 20/21 [tensorflow]\n",
            "   -------------------------------------- - 20/21 [tensorflow]\n",
            "   -------------------------------------- - 20/21 [tensorflow]\n",
            "   -------------------------------------- - 20/21 [tensorflow]\n",
            "   -------------------------------------- - 20/21 [tensorflow]\n",
            "   -------------------------------------- - 20/21 [tensorflow]\n",
            "   -------------------------------------- - 20/21 [tensorflow]\n",
            "   -------------------------------------- - 20/21 [tensorflow]\n",
            "   -------------------------------------- - 20/21 [tensorflow]\n",
            "   -------------------------------------- - 20/21 [tensorflow]\n",
            "   -------------------------------------- - 20/21 [tensorflow]\n",
            "   -------------------------------------- - 20/21 [tensorflow]\n",
            "   -------------------------------------- - 20/21 [tensorflow]\n",
            "   -------------------------------------- - 20/21 [tensorflow]\n",
            "   -------------------------------------- - 20/21 [tensorflow]\n",
            "   -------------------------------------- - 20/21 [tensorflow]\n",
            "   -------------------------------------- - 20/21 [tensorflow]\n",
            "   -------------------------------------- - 20/21 [tensorflow]\n",
            "   -------------------------------------- - 20/21 [tensorflow]\n",
            "   -------------------------------------- - 20/21 [tensorflow]\n",
            "   -------------------------------------- - 20/21 [tensorflow]\n",
            "   -------------------------------------- - 20/21 [tensorflow]\n",
            "   -------------------------------------- - 20/21 [tensorflow]\n",
            "   -------------------------------------- - 20/21 [tensorflow]\n",
            "   -------------------------------------- - 20/21 [tensorflow]\n",
            "   -------------------------------------- - 20/21 [tensorflow]\n",
            "   -------------------------------------- - 20/21 [tensorflow]\n",
            "   -------------------------------------- - 20/21 [tensorflow]\n",
            "   -------------------------------------- - 20/21 [tensorflow]\n",
            "   -------------------------------------- - 20/21 [tensorflow]\n",
            "   -------------------------------------- - 20/21 [tensorflow]\n",
            "   -------------------------------------- - 20/21 [tensorflow]\n",
            "   -------------------------------------- - 20/21 [tensorflow]\n",
            "   -------------------------------------- - 20/21 [tensorflow]\n",
            "   -------------------------------------- - 20/21 [tensorflow]\n",
            "   -------------------------------------- - 20/21 [tensorflow]\n",
            "   -------------------------------------- - 20/21 [tensorflow]\n",
            "   -------------------------------------- - 20/21 [tensorflow]\n",
            "   -------------------------------------- - 20/21 [tensorflow]\n",
            "   -------------------------------------- - 20/21 [tensorflow]\n",
            "   -------------------------------------- - 20/21 [tensorflow]\n",
            "   -------------------------------------- - 20/21 [tensorflow]\n",
            "   -------------------------------------- - 20/21 [tensorflow]\n",
            "   -------------------------------------- - 20/21 [tensorflow]\n",
            "   -------------------------------------- - 20/21 [tensorflow]\n",
            "   -------------------------------------- - 20/21 [tensorflow]\n",
            "   -------------------------------------- - 20/21 [tensorflow]\n",
            "   -------------------------------------- - 20/21 [tensorflow]\n",
            "   -------------------------------------- - 20/21 [tensorflow]\n",
            "   -------------------------------------- - 20/21 [tensorflow]\n",
            "   -------------------------------------- - 20/21 [tensorflow]\n",
            "   -------------------------------------- - 20/21 [tensorflow]\n",
            "   -------------------------------------- - 20/21 [tensorflow]\n",
            "   -------------------------------------- - 20/21 [tensorflow]\n",
            "   -------------------------------------- - 20/21 [tensorflow]\n",
            "   -------------------------------------- - 20/21 [tensorflow]\n",
            "   -------------------------------------- - 20/21 [tensorflow]\n",
            "   -------------------------------------- - 20/21 [tensorflow]\n",
            "   -------------------------------------- - 20/21 [tensorflow]\n",
            "   -------------------------------------- - 20/21 [tensorflow]\n",
            "   -------------------------------------- - 20/21 [tensorflow]\n",
            "   -------------------------------------- - 20/21 [tensorflow]\n",
            "   -------------------------------------- - 20/21 [tensorflow]\n",
            "   -------------------------------------- - 20/21 [tensorflow]\n",
            "   -------------------------------------- - 20/21 [tensorflow]\n",
            "   -------------------------------------- - 20/21 [tensorflow]\n",
            "   -------------------------------------- - 20/21 [tensorflow]\n",
            "   -------------------------------------- - 20/21 [tensorflow]\n",
            "   -------------------------------------- - 20/21 [tensorflow]\n",
            "   -------------------------------------- - 20/21 [tensorflow]\n",
            "   -------------------------------------- - 20/21 [tensorflow]\n",
            "   -------------------------------------- - 20/21 [tensorflow]\n",
            "   -------------------------------------- - 20/21 [tensorflow]\n",
            "   -------------------------------------- - 20/21 [tensorflow]\n",
            "   -------------------------------------- - 20/21 [tensorflow]\n",
            "   -------------------------------------- - 20/21 [tensorflow]\n",
            "   -------------------------------------- - 20/21 [tensorflow]\n",
            "   -------------------------------------- - 20/21 [tensorflow]\n",
            "   -------------------------------------- - 20/21 [tensorflow]\n",
            "   -------------------------------------- - 20/21 [tensorflow]\n",
            "   -------------------------------------- - 20/21 [tensorflow]\n",
            "   -------------------------------------- - 20/21 [tensorflow]\n",
            "   -------------------------------------- - 20/21 [tensorflow]\n",
            "   -------------------------------------- - 20/21 [tensorflow]\n",
            "   -------------------------------------- - 20/21 [tensorflow]\n",
            "   -------------------------------------- - 20/21 [tensorflow]\n",
            "   -------------------------------------- - 20/21 [tensorflow]\n",
            "   -------------------------------------- - 20/21 [tensorflow]\n",
            "   -------------------------------------- - 20/21 [tensorflow]\n",
            "   -------------------------------------- - 20/21 [tensorflow]\n",
            "   -------------------------------------- - 20/21 [tensorflow]\n",
            "   -------------------------------------- - 20/21 [tensorflow]\n",
            "   -------------------------------------- - 20/21 [tensorflow]\n",
            "   -------------------------------------- - 20/21 [tensorflow]\n",
            "   -------------------------------------- - 20/21 [tensorflow]\n",
            "   -------------------------------------- - 20/21 [tensorflow]\n",
            "   -------------------------------------- - 20/21 [tensorflow]\n",
            "   -------------------------------------- - 20/21 [tensorflow]\n",
            "   -------------------------------------- - 20/21 [tensorflow]\n",
            "   -------------------------------------- - 20/21 [tensorflow]\n",
            "   -------------------------------------- - 20/21 [tensorflow]\n",
            "   -------------------------------------- - 20/21 [tensorflow]\n",
            "   -------------------------------------- - 20/21 [tensorflow]\n",
            "   -------------------------------------- - 20/21 [tensorflow]\n",
            "   -------------------------------------- - 20/21 [tensorflow]\n",
            "   -------------------------------------- - 20/21 [tensorflow]\n",
            "   -------------------------------------- - 20/21 [tensorflow]\n",
            "   -------------------------------------- - 20/21 [tensorflow]\n",
            "   -------------------------------------- - 20/21 [tensorflow]\n",
            "   -------------------------------------- - 20/21 [tensorflow]\n",
            "   -------------------------------------- - 20/21 [tensorflow]\n",
            "   -------------------------------------- - 20/21 [tensorflow]\n",
            "   -------------------------------------- - 20/21 [tensorflow]\n",
            "   -------------------------------------- - 20/21 [tensorflow]\n",
            "   -------------------------------------- - 20/21 [tensorflow]\n",
            "   -------------------------------------- - 20/21 [tensorflow]\n",
            "   -------------------------------------- - 20/21 [tensorflow]\n",
            "   -------------------------------------- - 20/21 [tensorflow]\n",
            "   -------------------------------------- - 20/21 [tensorflow]\n",
            "   -------------------------------------- - 20/21 [tensorflow]\n",
            "   -------------------------------------- - 20/21 [tensorflow]\n",
            "   -------------------------------------- - 20/21 [tensorflow]\n",
            "   -------------------------------------- - 20/21 [tensorflow]\n",
            "   -------------------------------------- - 20/21 [tensorflow]\n",
            "   -------------------------------------- - 20/21 [tensorflow]\n",
            "   -------------------------------------- - 20/21 [tensorflow]\n",
            "   -------------------------------------- - 20/21 [tensorflow]\n",
            "   -------------------------------------- - 20/21 [tensorflow]\n",
            "   -------------------------------------- - 20/21 [tensorflow]\n",
            "   -------------------------------------- - 20/21 [tensorflow]\n",
            "   -------------------------------------- - 20/21 [tensorflow]\n",
            "   -------------------------------------- - 20/21 [tensorflow]\n",
            "   -------------------------------------- - 20/21 [tensorflow]\n",
            "   -------------------------------------- - 20/21 [tensorflow]\n",
            "   -------------------------------------- - 20/21 [tensorflow]\n",
            "   -------------------------------------- - 20/21 [tensorflow]\n",
            "   -------------------------------------- - 20/21 [tensorflow]\n",
            "   -------------------------------------- - 20/21 [tensorflow]\n",
            "   -------------------------------------- - 20/21 [tensorflow]\n",
            "   -------------------------------------- - 20/21 [tensorflow]\n",
            "   -------------------------------------- - 20/21 [tensorflow]\n",
            "   -------------------------------------- - 20/21 [tensorflow]\n",
            "   -------------------------------------- - 20/21 [tensorflow]\n",
            "   -------------------------------------- - 20/21 [tensorflow]\n",
            "   -------------------------------------- - 20/21 [tensorflow]\n",
            "   -------------------------------------- - 20/21 [tensorflow]\n",
            "   -------------------------------------- - 20/21 [tensorflow]\n",
            "   -------------------------------------- - 20/21 [tensorflow]\n",
            "   -------------------------------------- - 20/21 [tensorflow]\n",
            "   -------------------------------------- - 20/21 [tensorflow]\n",
            "   -------------------------------------- - 20/21 [tensorflow]\n",
            "   -------------------------------------- - 20/21 [tensorflow]\n",
            "   -------------------------------------- - 20/21 [tensorflow]\n",
            "   -------------------------------------- - 20/21 [tensorflow]\n",
            "   -------------------------------------- - 20/21 [tensorflow]\n",
            "   ---------------------------------------- 21/21 [tensorflow]\n",
            "\n",
            "Successfully installed absl-py-2.3.1 astunparse-1.6.3 flatbuffers-25.9.23 gast-0.6.0 google_pasta-0.2.0 grpcio-1.76.0 h5py-3.15.1 keras-3.12.0 libclang-18.1.1 markdown-3.9 ml_dtypes-0.5.3 namex-0.1.0 opt_einsum-3.4.0 optree-0.17.0 protobuf-6.33.0 tensorboard-2.20.0 tensorboard-data-server-0.7.2 tensorflow-2.20.0 termcolor-3.2.0 werkzeug-3.1.3 wrapt-2.0.0\n",
            "Note: you may need to restart the kernel to use updated packages.\n"
          ]
        }
      ],
      "source": [
        "%pip install tensorflow"
      ]
    },
    {
      "cell_type": "code",
      "execution_count": null,
      "metadata": {
        "id": "n08d0gc2zcAo"
      },
      "outputs": [
        {
          "ename": "ModuleNotFoundError",
          "evalue": "No module named 'tensorflow'",
          "output_type": "error",
          "traceback": [
            "\u001b[31m---------------------------------------------------------------------------\u001b[39m",
            "\u001b[31mModuleNotFoundError\u001b[39m                       Traceback (most recent call last)",
            "\u001b[36mCell\u001b[39m\u001b[36m \u001b[39m\u001b[32mIn[1]\u001b[39m\u001b[32m, line 1\u001b[39m\n\u001b[32m----> \u001b[39m\u001b[32m1\u001b[39m \u001b[38;5;28;01mimport\u001b[39;00m\u001b[38;5;250m \u001b[39m\u001b[34;01mtensorflow\u001b[39;00m\u001b[38;5;250m \u001b[39m\u001b[38;5;28;01mas\u001b[39;00m\u001b[38;5;250m \u001b[39m\u001b[34;01mtf\u001b[39;00m\n",
            "\u001b[31mModuleNotFoundError\u001b[39m: No module named 'tensorflow'"
          ]
        }
      ],
      "source": [
        "import tensorflow as tf"
      ]
    },
    {
      "cell_type": "code",
      "execution_count": null,
      "metadata": {
        "id": "NRtM8DOBzow_"
      },
      "outputs": [],
      "source": [
        "vggnet = tf.keras.applications.VGG16(weights='imagenet')"
      ]
    },
    {
      "cell_type": "code",
      "execution_count": null,
      "metadata": {
        "colab": {
          "base_uri": "https://localhost:8080/"
        },
        "id": "604B4t3mz8N8",
        "outputId": "0650371a-4d36-4693-9db8-426084603be0"
      },
      "outputs": [
        {
          "data": {
            "text/plain": [
              "(224, 224, 3)"
            ]
          },
          "execution_count": 58,
          "metadata": {},
          "output_type": "execute_result"
        }
      ],
      "source": [
        "# 이미지 파일을 넘파이 배열로 변환\n",
        "from PIL import Image\n",
        "import numpy as np\n",
        "dog_png = Image.open('/content/cat.png')\n",
        "dog_array = np.array(dog_png)\n",
        "dog_array.shape\n"
      ]
    },
    {
      "cell_type": "code",
      "execution_count": null,
      "metadata": {
        "colab": {
          "base_uri": "https://localhost:8080/"
        },
        "id": "zJTL9Wpo1e9C",
        "outputId": "90ba656d-89d2-4c2c-eb7f-c9040b949cd4"
      },
      "outputs": [
        {
          "data": {
            "text/plain": [
              "(224, 224, 3)"
            ]
          },
          "execution_count": 59,
          "metadata": {},
          "output_type": "execute_result"
        }
      ],
      "source": [
        "vgg_prep_dog = tf.keras.applications.vgg16.preprocess_input(dog_array)\n",
        "vgg_prep_dog.shape"
      ]
    },
    {
      "cell_type": "code",
      "execution_count": null,
      "metadata": {
        "colab": {
          "base_uri": "https://localhost:8080/"
        },
        "collapsed": true,
        "id": "gZSNFeRs0nId",
        "outputId": "9bbdd998-8299-4153-c5fd-3139f13116f6"
      },
      "outputs": [
        {
          "name": "stdout",
          "output_type": "stream",
          "text": [
            "\u001b[1m1/1\u001b[0m \u001b[32m━━━━━━━━━━━━━━━━━━━━\u001b[0m\u001b[37m\u001b[0m \u001b[1m1s\u001b[0m 1s/step\n"
          ]
        }
      ],
      "source": [
        "# 분류\n",
        "prediction = vggnet.predict(vgg_prep_dog[np.newaxis,:])  # 배치차원 추가"
      ]
    },
    {
      "cell_type": "code",
      "execution_count": null,
      "metadata": {
        "colab": {
          "base_uri": "https://localhost:8080/"
        },
        "id": "XbxXVfm704OW",
        "outputId": "bc698412-fcb2-4be3-db3f-a2710b122f97"
      },
      "outputs": [
        {
          "data": {
            "text/plain": [
              "(np.int64(281), np.float32(3.6522097e-06))"
            ]
          },
          "execution_count": 61,
          "metadata": {},
          "output_type": "execute_result"
        }
      ],
      "source": [
        "np.argmax(prediction[0]),  prediction[0][208]"
      ]
    },
    {
      "cell_type": "code",
      "execution_count": null,
      "metadata": {
        "colab": {
          "base_uri": "https://localhost:8080/"
        },
        "id": "0EQUoO7-2beb",
        "outputId": "621fea55-abc7-4467-8461-d6cbbddd41f6"
      },
      "outputs": [
        {
          "data": {
            "text/plain": [
              "[[('n02123045', 'tabby', np.float32(0.43275443)),\n",
              "  ('n02124075', 'Egyptian_cat', np.float32(0.31127918)),\n",
              "  ('n02123159', 'tiger_cat', np.float32(0.21606451)),\n",
              "  ('n02971356', 'carton', np.float32(0.0035795602)),\n",
              "  ('n03223299', 'doormat', np.float32(0.0031308173))]]"
            ]
          },
          "execution_count": 62,
          "metadata": {},
          "output_type": "execute_result"
        }
      ],
      "source": [
        "from tensorflow.keras.applications.vgg16 import decode_predictions\n",
        "decode_predictions(prediction)"
      ]
    },
    {
      "cell_type": "code",
      "execution_count": null,
      "metadata": {
        "id": "t-ejwX5Y38Mj"
      },
      "outputs": [],
      "source": [
        "# ResNet\n",
        "# 층을 깊게 쌓으면 -> 더 복잡한 패턴을 학습\n",
        "# 네트웍이 깊어지면\n",
        "  # 기울기 소실(소실 / 폭발)\n",
        "# Residual Learning  잔차 연결\n",
        "# x-> H(x)\n",
        "# F(x) = H(x) - x  Residual 잔차를 학습\n",
        "# 최종 출력 H(x) = F(x) + x  스킵커넥"
      ]
    },
    {
      "cell_type": "code",
      "execution_count": null,
      "metadata": {
        "id": "O665qU_76Rxq"
      },
      "outputs": [],
      "source": [
        "# ResNet 모델\n",
        "import keras\n",
        "from keras import layers\n",
        "inputs = layers.Input(shape=(224,224,3))\n",
        "x = layers.ZeroPadding2D(padding=3)(inputs)\n",
        "x = layers.Conv2D(64,kernel_size=7,strides=2)(x)\n",
        "x = layers.BatchNormalization()(x)\n",
        "x = layers.Activation('relu')(x)\n",
        "x = layers.ZeroPadding2D(padding=1)(x)\n",
        "x = layers.MaxPooling2D(pool_size=3,strides=2)(x)"
      ]
    },
    {
      "cell_type": "code",
      "execution_count": null,
      "metadata": {
        "id": "Qsk42EOm831U"
      },
      "outputs": [],
      "source": [
        "def residual_block(x, filters, first_stride=1, conv_skip=False):\n",
        "    skip_conn = x\n",
        "    x = layers.Conv2D(filters=filters, kernel_size=1,\n",
        "                      strides=first_stride)(x)\n",
        "    x = layers.BatchNormalization(epsilon=1e-5)(x)\n",
        "    x = layers.Activation('relu')(x)\n",
        "    x = layers.Conv2D(filters=filters, kernel_size=3,\n",
        "                      padding='same')(x)\n",
        "    x = layers.BatchNormalization(epsilon=1e-5)(x)\n",
        "    x = layers.Activation('relu')(x)\n",
        "    x = layers.Conv2D(filters=filters*4, kernel_size=1)(x)\n",
        "    x = layers.BatchNormalization(epsilon=1e-5)(x)\n",
        "    # conv_skip이 True 이면 1x1 합성곱ㅇ르 사용해 채널 크기를 fillers*4로 늘려준다\n",
        "    if conv_skip == True:\n",
        "        skip_conn = layers.Conv2D(filters=filters*4, kernel_size=1,\n",
        "                                  strides=first_stride)(skip_conn)\n",
        "        skip_conn = layers.BatchNormalization(epsilon=1e-5)(skip_conn)\n",
        "    x = layers.Add()([skip_conn, x])\n",
        "    x = layers.Activation('relu')(x)\n",
        "    return x"
      ]
    },
    {
      "cell_type": "code",
      "execution_count": null,
      "metadata": {
        "id": "JJo54FWz3vBj"
      },
      "outputs": [],
      "source": [
        "# 잔차 스택\n",
        "def build_stack(x):\n",
        "  #  첫번째 잔차스택의 첫번째 잔차 블럭만 스트라이드 1\n",
        "  x = residual_stack(x, 3, 64, first_stride=1)\n",
        "  for blocks, filters in [(4, 128), (6, 256), (3, 512)]:\n",
        "      x = residual_stack(x, blocks, filters, first_stride=2)\n",
        "  return x\n",
        "\n",
        "def residual_stack(x, blocks, filters, first_stride=2):\n",
        "  # 합성곱 스킵커넥션\n",
        "  x = residual_block(x, filters, first_stride=first_stride, conv_skip=True)\n",
        "  for _ in range(1, blocks):\n",
        "      x = residual_block(x, filters, first_stride=1, conv_skip=False)\n",
        "  return x"
      ]
    },
    {
      "cell_type": "code",
      "execution_count": null,
      "metadata": {
        "id": "qPwD6fF-82g0"
      },
      "outputs": [],
      "source": [
        "# ResNet 모델\n",
        "x = build_stack(x)\n",
        "x = layers.GlobalAveragePooling2D()(x)\n",
        "output = layers.Dense(1000, activation='softmax')(x)\n",
        "model = keras.Model(inputs=inputs, outputs=output)\n",
        "model.compile(optimizer='adam', loss='categorical_crossentropy', metrics=['accuracy'])"
      ]
    },
    {
      "cell_type": "code",
      "execution_count": null,
      "metadata": {
        "id": "BOL-WuzqBDn5"
      },
      "outputs": [],
      "source": []
    }
  ],
  "metadata": {
    "colab": {
      "provenance": []
    },
    "kernelspec": {
      "display_name": "base",
      "language": "python",
      "name": "python3"
    },
    "language_info": {
      "codemirror_mode": {
        "name": "ipython",
        "version": 3
      },
      "file_extension": ".py",
      "mimetype": "text/x-python",
      "name": "python",
      "nbconvert_exporter": "python",
      "pygments_lexer": "ipython3",
      "version": "3.13.7"
    }
  },
  "nbformat": 4,
  "nbformat_minor": 0
}
