{
 "cells": [
  {
   "cell_type": "markdown",
   "id": "a53aec7b",
   "metadata": {},
   "source": [
    "##### 데이터의 종류\n",
    "##### DNN CNN\n",
    "    -  독립적인 정보\n",
    "    - 입력(x) 간의 순서나 연관성을 고려하지 않는다\n",
    "##### 시계열 : 시간의 연속적인 흐름\n",
    "    - 시계열 데이터 : 날씨, 주식, 문장 --> 순서가 중요한 데이터\n",
    "##### RNN\n",
    "    - 순환하는 구조 (참고 : 독립변수 x1,x2,x3 )\n",
    "        - 시점1 (월요일) : 맑음(x1) 정보가 RNN에 들어온다. -> RNN 날씨가 맑았음(h1) 이라는 요약본을 생성\n",
    "        - 시점2 (화요일) : 흐림(x2) -> RNN 새로운 정보 (흐림, x2) + 어제의 기억(맑았음, h1) 함께 고려\n",
    "            어제 맑았는데 오늘 흐림 h2 이라는 새로운 요약본을 생성\n",
    "                # 그냥 내역이 남는것 처럼 보이는데\n",
    "        - 시점3 (수요일) : 비(x3) -> RNN 새로운정보(비,x3) 정보와 + 어제의 기억(어제 맑았는데 오늘 흐림 h2)\n",
    "            새로운 상태 h3\n",
    "        - 반복\n",
    "    - 알고리즘\n",
    "        - 각 시점(time step)에서 1. 현재의 입력과 과거의 기억(hidden state ht-1)\n",
    "            # 사람의 기억과 학습과 유사한 것 같네\n",
    "        3. 현재의 결과물과 4 다음 시점으로 넘겨줄 최신기억 ht를 생성\n",
    "        - ht 기억이 시계열 데이터의 맥락(Context) 저장하는 역할\n",
    "    - 장점\n",
    "        - 순서가 있는 데이터의 맥락을 학습\n",
    "    - 한계\n",
    "        - 기억력이 생각보다 짧다\n",
    "        - 시계열 데이터가 길어지면(예 100단계 전의 정보)\n",
    "        - 이전정보가 소실되거나 반대로 너무 강해져서 폭주가 되어 제대로 학습이 안된다\n",
    "        - 장기 기억 의존성 문제 (Long Term Dependency Problem)\n",
    "> RNN 업그레이드 버젼\n",
    "##### LSTM & GRU\n",
    "    - LSTM(Long Short-Term Memory) : RNN 내부에 게이트(Gate) 복잡한 장치 -> 잊고, 기억할 정보를 관리\n",
    "> 모델이 복잡하면 여러모로 단점이 발생할 위험이 있다. 그래서 나온 방법 GRU\n",
    "    - GRU(Gated Recurrent Unit) : LSTM 구조를 좀 더 단순화 시킨 모델, LSTM 성능은 비슷, 속도는 빠르다.\n",
    "##### RNN 핵심수식\n",
    "    - 은닉상태 계산\n",
    "        - h1 = tanh(wht -1 + wxt - bh)\n",
    "            \n",
    "            ht : 현재 시점 t의 hidden state (숨겨진 상태, 메모리 역할)\n",
    "            이전 시점까지의 정보를 요약해서 가지고 있음\n",
    "            \n",
    "            tanh() : 활성화 함수 중 하나로, 출력값을 -1에서 1 사이로 압축\n",
    "            비선형성을 넣어 모델이 더 복잡한 패턴을 학습할 수 있게 함\n",
    "\n",
    "            특이한점 : 가중치공유 - 모든 시점에서 동일한 가중치를 공유를 한다.\n",
    "    - 출력상태 계산"
   ]
  },
  {
   "cell_type": "code",
   "execution_count": 1,
   "id": "2c4e588d",
   "metadata": {},
   "outputs": [],
   "source": [
    "# %pip install matplotlib"
   ]
  },
  {
   "cell_type": "markdown",
   "id": "0ee8877e",
   "metadata": {},
   "source": [
    "##### RNN 구현해보기"
   ]
  },
  {
   "cell_type": "code",
   "execution_count": 2,
   "id": "e49a1b4f",
   "metadata": {},
   "outputs": [],
   "source": [
    "# https://raw.githubusercontent.com/pia222sk20/python/refs/heads/main/data/time_data_train.csv\n",
    "# https://raw.githubusercontent.com/pia222sk20/python/refs/heads/main/data/time_data_test.csv"
   ]
  },
  {
   "cell_type": "code",
   "execution_count": 3,
   "id": "a4ac4446",
   "metadata": {},
   "outputs": [],
   "source": [
    "# %pip install pandas"
   ]
  },
  {
   "cell_type": "code",
   "execution_count": 4,
   "id": "1cd31a43",
   "metadata": {},
   "outputs": [
    {
     "data": {
      "text/html": [
       "<div>\n",
       "<style scoped>\n",
       "    .dataframe tbody tr th:only-of-type {\n",
       "        vertical-align: middle;\n",
       "    }\n",
       "\n",
       "    .dataframe tbody tr th {\n",
       "        vertical-align: top;\n",
       "    }\n",
       "\n",
       "    .dataframe thead th {\n",
       "        text-align: right;\n",
       "    }\n",
       "</style>\n",
       "<table border=\"1\" class=\"dataframe\">\n",
       "  <thead>\n",
       "    <tr style=\"text-align: right;\">\n",
       "      <th></th>\n",
       "      <th>Date</th>\n",
       "      <th>Open</th>\n",
       "      <th>High</th>\n",
       "      <th>Low</th>\n",
       "      <th>Volume</th>\n",
       "      <th>Close</th>\n",
       "    </tr>\n",
       "  </thead>\n",
       "  <tbody>\n",
       "    <tr>\n",
       "      <th>0</th>\n",
       "      <td>2015-12-16</td>\n",
       "      <td>120</td>\n",
       "      <td>123</td>\n",
       "      <td>118</td>\n",
       "      <td>13181000</td>\n",
       "      <td>123</td>\n",
       "    </tr>\n",
       "    <tr>\n",
       "      <th>1</th>\n",
       "      <td>2015-12-17</td>\n",
       "      <td>124</td>\n",
       "      <td>126</td>\n",
       "      <td>122</td>\n",
       "      <td>17284900</td>\n",
       "      <td>123</td>\n",
       "    </tr>\n",
       "    <tr>\n",
       "      <th>2</th>\n",
       "      <td>2015-12-18</td>\n",
       "      <td>121</td>\n",
       "      <td>122</td>\n",
       "      <td>118</td>\n",
       "      <td>17948100</td>\n",
       "      <td>118</td>\n",
       "    </tr>\n",
       "    <tr>\n",
       "      <th>3</th>\n",
       "      <td>2015-12-21</td>\n",
       "      <td>120</td>\n",
       "      <td>120</td>\n",
       "      <td>116</td>\n",
       "      <td>11670000</td>\n",
       "      <td>117</td>\n",
       "    </tr>\n",
       "    <tr>\n",
       "      <th>4</th>\n",
       "      <td>2015-12-22</td>\n",
       "      <td>117</td>\n",
       "      <td>117</td>\n",
       "      <td>115</td>\n",
       "      <td>9689000</td>\n",
       "      <td>116</td>\n",
       "    </tr>\n",
       "  </tbody>\n",
       "</table>\n",
       "</div>"
      ],
      "text/plain": [
       "         Date  Open  High  Low    Volume  Close\n",
       "0  2015-12-16   120   123  118  13181000    123\n",
       "1  2015-12-17   124   126  122  17284900    123\n",
       "2  2015-12-18   121   122  118  17948100    118\n",
       "3  2015-12-21   120   120  116  11670000    117\n",
       "4  2015-12-22   117   117  115   9689000    116"
      ]
     },
     "execution_count": 4,
     "metadata": {},
     "output_type": "execute_result"
    }
   ],
   "source": [
    "import pandas as pd\n",
    "url ='https://raw.githubusercontent.com/pia222sk20/python/refs/heads/main/data/time_data_train.csv'\n",
    "df = pd.read_csv(url)\n",
    "df.head()\n",
    "\n",
    "# Volume 거래량\n",
    "# close 종가"
   ]
  },
  {
   "cell_type": "code",
   "execution_count": 5,
   "id": "8812128d",
   "metadata": {},
   "outputs": [
    {
     "name": "stdout",
     "output_type": "stream",
     "text": [
      "<class 'pandas.core.frame.DataFrame'>\n",
      "RangeIndex: 967 entries, 0 to 966\n",
      "Data columns (total 6 columns):\n",
      " #   Column  Non-Null Count  Dtype \n",
      "---  ------  --------------  ----- \n",
      " 0   Date    967 non-null    object\n",
      " 1   Open    967 non-null    int64 \n",
      " 2   High    967 non-null    int64 \n",
      " 3   Low     967 non-null    int64 \n",
      " 4   Volume  967 non-null    int64 \n",
      " 5   Close   967 non-null    int64 \n",
      "dtypes: int64(5), object(1)\n",
      "memory usage: 45.5+ KB\n"
     ]
    }
   ],
   "source": [
    "# 전체 데이터 셋 확인\n",
    "df.info()"
   ]
  },
  {
   "cell_type": "code",
   "execution_count": 6,
   "id": "67521371",
   "metadata": {},
   "outputs": [],
   "source": [
    "# EDA - 탐색적 데이터 분석\n",
    "# 데이터 셋 정의\n",
    "import numpy as np\n",
    "from sklearn.preprocessing import StandardScaler # ^ 수동으로 하는 법 숙지\n",
    "from torch.utils.data.dataset import Dataset\n",
    "import torch\n",
    "class StockDataSet(Dataset):\n",
    "    def __init__(self):\n",
    "        url = 'https://raw.githubusercontent.com/pia222sk20/python/refs/heads/main/data/time_data_train.csv'\n",
    "        self.csv = pd.read_csv(url)\n",
    "\n",
    "        data = self.csv.iloc[:,1:-1].values\n",
    "        label = self.csv.iloc[:,-1].values.reshape(-1,1)\n",
    "        self.data = StandardScaler().fit_transform(data)\n",
    "        # self.data = StandardScaler().fit_transform(self.csv.iloc[:,1:-2].values)\n",
    "\n",
    "        # 정답이 숫자, 크다면 정규화가 학습에 도움이 된다.\n",
    "        # 분류 문제라면 레이블(타깃, output값)을 정규화하면 안 됩니다.\n",
    "        # 회귀 문제라면 정규화 가능하지만, 나중에 결과를 원래 스케일로 되돌리기 위해 scaler를 저장하는 것이 좋습니다.\n",
    "        self.label = StandardScaler().fit_transform(label)\n",
    "        # y값 정규화 고려할 점\n",
    "        # 실제 단위 정보가 변환됨: 예측 결과를 다시 원래 단위로 변환해야 해요 (inverse_transform).\n",
    "        # 데이터 분포 왜곡 가능성: 특히 MinMaxScaler를 사용하면 이상치(outlier)에 민감.\n",
    "        # 손실 정보가 누락될까 걱정: 보통 정규화는 선형 변환이므로 정보가 누락되지는 않음, 단지 상대적 크기만 바뀌는 것뿐이에요.\n",
    "\n",
    "        # view 와 reshape ^\n",
    "\n",
    "        self.data = torch.Tensor(self.data)\n",
    "        self.label = torch.Tensor(self.label)\n",
    "        \n",
    "    def __len__(self):\n",
    "        return len(self.data) - 30# ^ # 사용가능한 배치 개수\n",
    "    def __getitem__(self, index):\n",
    "        data = self.data[index:index+30]\n",
    "        label = self.label[index+30]\n",
    "        return data, label"
   ]
  },
  {
   "cell_type": "code",
   "execution_count": 7,
   "id": "f285462e",
   "metadata": {},
   "outputs": [
    {
     "data": {
      "text/plain": [
       "4"
      ]
     },
     "execution_count": 7,
     "metadata": {},
     "output_type": "execute_result"
    }
   ],
   "source": [
    "len(df.columns.values)-2\n",
    "# 왜 3개인지"
   ]
  },
  {
   "cell_type": "code",
   "execution_count": 8,
   "id": "fd16fcda",
   "metadata": {},
   "outputs": [
    {
     "data": {
      "text/plain": [
       "(torch.Size([30, 4]), torch.Size([1]))"
      ]
     },
     "execution_count": 8,
     "metadata": {},
     "output_type": "execute_result"
    }
   ],
   "source": [
    "data, label = next(iter(StockDataSet()))\n",
    "data.size(), label.size()"
   ]
  },
  {
   "cell_type": "code",
   "execution_count": 9,
   "id": "84f2f724",
   "metadata": {},
   "outputs": [],
   "source": [
    "# RNN 구현\n",
    "import torch.nn as nn\n",
    "class StockRNN(nn.Module):\n",
    "    def __init__(self):\n",
    "        super(StockRNN,self).__init__()\n",
    "        # 임의 배치 사이즈 16\n",
    "        # (30일,배치16개,각 입력의 특성 4개)  batch_first = False\n",
    "        # (배치16개, 30일 각 입력의 특성 4개) batch_first = True\n",
    "        # 이 서순의 차이가 무엇인지 ^(1)\n",
    "        self.rnn = nn.RNN(input_size=4, hidden_size=8, num_layers=5,batch_first=True) # ^(2)\n",
    "        # 출력 (batch, 30, 8)\n",
    "        self.fc1 = nn.Linear(30*8,64) # \n",
    "        self.fc2 = nn.Linear(64,1)\n",
    "        self.relu = nn.ReLU() # 이걸 사용하는 이유 ^(3)\n",
    "        # forward 함수에 들어가게 데이터 펼치기\n",
    "    def forward(self,x,ho): # 입력 데이터는 (16,30,4)\n",
    "                                # (batch_size, seq_len, input_size)\n",
    "        # ho는 초기 은닉상태 (num_layers, batch, hidden_size) (5,16,8)\n",
    "        # 출력 x는 모든 시점에 대한 hidden out put을 담고 있어야한다.\n",
    "            # (batch_size, seq_len, hidden_size) (16,30,8)\n",
    "        # 출력 hn 최종 은닉상태(각 레이어의 마지막 타임 스탬프 hidden state)\n",
    "            # (num_layers, batch, hidden_size) (5,16,8)\n",
    "        x,hn = self.rnn(x,ho)\n",
    "        \n",
    "        # mlp 입력으로 사용될 수 있도록 모임 변경 ^\n",
    "        x = torch.reshape(x,(x.shape[0],-1))\n",
    "\n",
    "        # mlp\n",
    "        x = self.relu(self.fc1(x))\n",
    "        x = self.fc2(x)\n",
    "\n",
    "        # 예측한 종가 1차원 벡터\n",
    "        out = torch.flatten(x)\n",
    "        return out"
   ]
  },
  {
   "cell_type": "code",
   "execution_count": 10,
   "id": "2c6e4b5d",
   "metadata": {},
   "outputs": [],
   "source": [
    "# ^(1)\n",
    "# batch_first=True는 직관적: (배치, 시퀀스, 특성) → 일반적인 데이터셋 형태와 비슷해서 이해하기 쉬움\n",
    "# batch_first=False는 PyTorch RNN 구현 기본값 → 메모리 접근 최적화 측면에서 유리할 수 있음\n",
    "# flatten 할때 사용하기 편하다.\n",
    "\n",
    "# ^(2)\n",
    "# hidden_size는 몇차원 벡터로 정보를 요약할지.\n",
    "        # ht 시점 t에서의 기억 상태\n",
    "        # hidden_size가 크면 더 많은 정보를 기억할 수 있고,\n",
    "        # 작으면 요약이 더 단순합니다.\n",
    "        \n",
    "# num_layers는 RNN을 몇개의 레이어로 쌓을지.\n",
    "    # 저층은 단기 패턴, 고층은 장기 패턴을 학습\n",
    "\n",
    "# batch_size: 한 번에 처리하는 샘플 개수, 예: 16\n",
    "\n",
    "# input_size: 각 시점(timestep)의 입력 특징 수, 예: 3개\n",
    "\n",
    "# nn.RNN의 입력 형태는 기본적으로 3차원 텐서\n",
    "# (input_seq_len, batch_size, input_size)  # batch_first=False (기본값)\n",
    "# (batch_size, input_seq_len, input_size)  # batch_first=True\n",
    "# input_seq_len: 시퀀스 길이, 예를 들어 30일치 데이터라면 30\n",
    "\n",
    "# 30일치 데이터에서 하루당 4개의 데이터 인풋, 그리고 ^ 8개씩 5개의 레이어 구성\n",
    "# (배치사이즈만큼)^ 16개씩 동시에 계산(병렬처리 GPU)\n",
    "\n",
    "# 수정 필요 ^ (배치 16개) × (시퀀스 30일) × (hidden 8차원) → 5층 반복 계산\n",
    "# 첫 번째 RNN 층\n",
    "# 입력: (16, 30, 4)\n",
    "# hidden_size=8 → 출력: (16, 30, 8)\n",
    "# 각 시점 8차원 hidden state로 변환\n",
    "# 두 번째 RNN 층\n",
    "# 입력: 첫 층 출력 (16, 30, 8)\n",
    "# hidden_size=8 → 출력: (16, 30, 8)\n",
    "# 5층까지 반복\n",
    "# 최종 출력: (16, 30, 8)\n",
    "# 즉, 각 배치(16개) × 시퀀스 길이(30일) × hidden_size(8차원)\n",
    "\n",
    "# ^(3)"
   ]
  },
  {
   "cell_type": "code",
   "execution_count": 11,
   "id": "1e961f57",
   "metadata": {},
   "outputs": [
    {
     "data": {
      "text/plain": [
       "torch.Size([16])"
      ]
     },
     "execution_count": 11,
     "metadata": {},
     "output_type": "execute_result"
    }
   ],
   "source": [
    "rnn = StockRNN()\n",
    "sample_data = torch.randn(16,30,4)\n",
    "\n",
    "# 초기 hidden state 값 (num_layer, batch_size,hidden_size) (5,16,8)\n",
    "ho = torch.zeros(5,16,8)\n",
    "out = rnn(sample_data,ho)\n",
    "out.size()"
   ]
  },
  {
   "cell_type": "code",
   "execution_count": 12,
   "id": "b32f7542",
   "metadata": {},
   "outputs": [],
   "source": [
    "from torch.optim.adam import Adam\n",
    "from torch.utils.data.dataloader import DataLoader\n",
    "device = 'cuda' if torch.cuda.is_available() else 'cpu'\n",
    "model = StockRNN().to(device)\n",
    "dataset = StockDataSet()\n",
    "loader = DataLoader(dataset,batch_size=16)\n",
    "optim = Adam(model.parameters(),lr=1e-3)"
   ]
  },
  {
   "cell_type": "code",
   "execution_count": 13,
   "id": "0fc26c65",
   "metadata": {},
   "outputs": [
    {
     "data": {
      "text/plain": [
       "(torch.float32, torch.float32)"
      ]
     },
     "execution_count": 13,
     "metadata": {},
     "output_type": "execute_result"
    }
   ],
   "source": [
    "data, label = next(iter(loader))\n",
    "data.dtype, label.dtype"
   ]
  },
  {
   "cell_type": "code",
   "execution_count": 14,
   "id": "c723a35b",
   "metadata": {},
   "outputs": [
    {
     "data": {
      "text/plain": [
       "9"
      ]
     },
     "execution_count": 14,
     "metadata": {},
     "output_type": "execute_result"
    }
   ],
   "source": [
    "# Expected hidden size (5, 9, 8), got [5, 16, 8]\n",
    "len(dataset) % 16 # 나머지 갯수가 처리가 되지않았다.\n",
    "# RNN이 처리하는 배치크기는 9 우리가 설계한 배치크기는 16\n",
    "# 남은 배치를 어떻게 처리할지,"
   ]
  },
  {
   "cell_type": "code",
   "execution_count": 15,
   "id": "674646f9",
   "metadata": {},
   "outputs": [
    {
     "name": "stderr",
     "output_type": "stream",
     "text": [
      "  0%|          | 0/59 [00:00<?, ?it/s]c:\\Users\\Playdata2\\miniconda3\\Lib\\site-packages\\torch\\nn\\modules\\loss.py:634: UserWarning: Using a target size (torch.Size([16, 1])) that is different to the input size (torch.Size([16])). This will likely lead to incorrect results due to broadcasting. Please ensure they have the same size.\n",
      "  return F.mse_loss(input, target, reduction=self.reduction)\n",
      "epoch : 1 loss : 0.008437974378466606:  17%|█▋        | 10/59 [00:00<00:01, 47.48it/s]"
     ]
    },
    {
     "name": "stderr",
     "output_type": "stream",
     "text": [
      "epoch : 1 loss : 0.18225334584712982:  93%|█████████▎| 55/59 [00:01<00:00, 48.32it/s]  c:\\Users\\Playdata2\\miniconda3\\Lib\\site-packages\\torch\\nn\\modules\\loss.py:634: UserWarning: Using a target size (torch.Size([9, 1])) that is different to the input size (torch.Size([9])). This will likely lead to incorrect results due to broadcasting. Please ensure they have the same size.\n",
      "  return F.mse_loss(input, target, reduction=self.reduction)\n",
      "epoch : 1 loss : 0.1550484001636505: 100%|██████████| 59/59 [00:01<00:00, 45.86it/s] \n",
      "epoch : 2 loss : 0.3748246729373932: 100%|██████████| 59/59 [00:01<00:00, 46.67it/s]   \n",
      "epoch : 3 loss : 0.38003742694854736: 100%|██████████| 59/59 [00:01<00:00, 47.45it/s]  \n",
      "epoch : 4 loss : 0.392674058675766: 100%|██████████| 59/59 [00:01<00:00, 53.01it/s]    \n",
      "epoch : 5 loss : 0.3883705735206604: 100%|██████████| 59/59 [00:01<00:00, 51.42it/s]  \n",
      "epoch : 6 loss : 0.34646210074424744: 100%|██████████| 59/59 [00:01<00:00, 52.90it/s]  \n",
      "epoch : 7 loss : 0.3139687180519104: 100%|██████████| 59/59 [00:01<00:00, 42.63it/s]  \n",
      "epoch : 8 loss : 0.3133101165294647: 100%|██████████| 59/59 [00:01<00:00, 45.59it/s]   \n",
      "epoch : 9 loss : 0.2943805754184723: 100%|██████████| 59/59 [00:01<00:00, 45.57it/s]   \n",
      "epoch : 10 loss : 0.2755141258239746: 100%|██████████| 59/59 [00:01<00:00, 50.76it/s]  \n",
      "epoch : 11 loss : 0.2604997754096985: 100%|██████████| 59/59 [00:01<00:00, 48.83it/s]  \n",
      "epoch : 12 loss : 0.24396556615829468: 100%|██████████| 59/59 [00:01<00:00, 51.09it/s]  \n",
      "epoch : 13 loss : 0.23604030907154083: 100%|██████████| 59/59 [00:01<00:00, 48.03it/s]   \n",
      "epoch : 14 loss : 0.22271877527236938: 100%|██████████| 59/59 [00:01<00:00, 50.68it/s]  \n",
      "epoch : 15 loss : 0.2285812348127365: 100%|██████████| 59/59 [00:01<00:00, 45.73it/s]   \n",
      "epoch : 16 loss : 0.2007281482219696: 100%|██████████| 59/59 [00:01<00:00, 49.86it/s]   \n",
      "epoch : 17 loss : 0.1954900622367859: 100%|██████████| 59/59 [00:01<00:00, 49.96it/s]   \n",
      "epoch : 18 loss : 0.1790369153022766: 100%|██████████| 59/59 [00:01<00:00, 53.16it/s]   \n",
      "epoch : 19 loss : 0.1641709804534912: 100%|██████████| 59/59 [00:01<00:00, 52.81it/s]   \n",
      "epoch : 20 loss : 0.15327665209770203: 100%|██████████| 59/59 [00:01<00:00, 52.88it/s]  \n",
      "epoch : 21 loss : 0.1440148949623108: 100%|██████████| 59/59 [00:01<00:00, 58.44it/s]   \n",
      "epoch : 22 loss : 0.08390187472105026: 100%|██████████| 59/59 [00:01<00:00, 53.41it/s]  \n",
      "epoch : 23 loss : 0.13090777397155762: 100%|██████████| 59/59 [00:01<00:00, 54.93it/s]  \n",
      "epoch : 24 loss : 0.13080793619155884: 100%|██████████| 59/59 [00:01<00:00, 55.42it/s]  \n",
      "epoch : 25 loss : 0.10141879320144653: 100%|██████████| 59/59 [00:01<00:00, 47.20it/s]  \n",
      "epoch : 26 loss : 0.07963128387928009: 100%|██████████| 59/59 [00:01<00:00, 55.47it/s]  \n",
      "epoch : 27 loss : 0.04550006240606308: 100%|██████████| 59/59 [00:01<00:00, 57.92it/s]  \n",
      "epoch : 28 loss : 0.06631297618150711: 100%|██████████| 59/59 [00:01<00:00, 49.98it/s]  \n",
      "epoch : 29 loss : 0.07018066197633743: 100%|██████████| 59/59 [00:01<00:00, 48.87it/s] \n",
      "epoch : 30 loss : 0.05316163972020149: 100%|██████████| 59/59 [00:01<00:00, 51.87it/s]  \n",
      "epoch : 31 loss : 0.03847767785191536: 100%|██████████| 59/59 [00:01<00:00, 51.58it/s]  \n",
      "epoch : 32 loss : 0.030613966286182404: 100%|██████████| 59/59 [00:01<00:00, 57.20it/s] \n",
      "epoch : 33 loss : 0.030331570655107498: 100%|██████████| 59/59 [00:00<00:00, 60.19it/s] \n",
      "epoch : 34 loss : 0.02844565361738205: 100%|██████████| 59/59 [00:01<00:00, 48.61it/s]  \n",
      "epoch : 35 loss : 0.028339877724647522: 100%|██████████| 59/59 [00:00<00:00, 60.74it/s] \n",
      "epoch : 36 loss : 0.02380235120654106: 100%|██████████| 59/59 [00:00<00:00, 59.61it/s]  \n",
      "epoch : 37 loss : 0.026794662699103355: 100%|██████████| 59/59 [00:01<00:00, 52.24it/s] \n",
      "epoch : 38 loss : 0.02370585687458515: 100%|██████████| 59/59 [00:00<00:00, 62.03it/s]  \n",
      "epoch : 39 loss : 0.02478799968957901: 100%|██████████| 59/59 [00:01<00:00, 56.17it/s]  \n",
      "epoch : 40 loss : 0.02249823324382305: 100%|██████████| 59/59 [00:01<00:00, 53.96it/s]  \n",
      "epoch : 41 loss : 0.02690667286515236: 100%|██████████| 59/59 [00:00<00:00, 60.76it/s]  \n",
      "epoch : 42 loss : 0.02039249986410141: 100%|██████████| 59/59 [00:00<00:00, 62.00it/s]  \n",
      "epoch : 43 loss : 0.024948900565505028: 100%|██████████| 59/59 [00:01<00:00, 56.85it/s] \n",
      "epoch : 44 loss : 0.022096943110227585: 100%|██████████| 59/59 [00:01<00:00, 57.12it/s] \n",
      "epoch : 45 loss : 0.020105652511119843: 100%|██████████| 59/59 [00:00<00:00, 60.15it/s] \n",
      "epoch : 46 loss : 0.02537962794303894: 100%|██████████| 59/59 [00:01<00:00, 53.15it/s]  \n",
      "epoch : 47 loss : 0.018114574253559113: 100%|██████████| 59/59 [00:01<00:00, 46.36it/s] \n",
      "epoch : 48 loss : 0.02881796844303608: 100%|██████████| 59/59 [00:01<00:00, 39.40it/s]  \n",
      "epoch : 49 loss : 0.01350297313183546: 100%|██████████| 59/59 [00:01<00:00, 52.42it/s]  \n",
      "epoch : 50 loss : 0.018174150958657265: 100%|██████████| 59/59 [00:00<00:00, 62.19it/s] \n",
      "epoch : 51 loss : 0.01264596451073885: 100%|██████████| 59/59 [00:00<00:00, 61.07it/s]  \n",
      "epoch : 52 loss : 0.0315464623272419: 100%|██████████| 59/59 [00:01<00:00, 43.84it/s]   \n",
      "epoch : 53 loss : 0.007357781287282705: 100%|██████████| 59/59 [00:01<00:00, 44.54it/s] \n",
      "epoch : 54 loss : 0.03131355345249176: 100%|██████████| 59/59 [00:01<00:00, 48.35it/s]  \n",
      "epoch : 55 loss : 0.015366201288998127: 100%|██████████| 59/59 [00:01<00:00, 42.64it/s]\n",
      "epoch : 56 loss : 0.024137122556567192: 100%|██████████| 59/59 [00:01<00:00, 44.17it/s] \n",
      "epoch : 57 loss : 0.011526800692081451: 100%|██████████| 59/59 [00:01<00:00, 40.58it/s] \n",
      "epoch : 58 loss : 0.0179044920951128: 100%|██████████| 59/59 [00:01<00:00, 44.40it/s]   \n",
      "epoch : 59 loss : 0.020636919885873795: 100%|██████████| 59/59 [00:01<00:00, 33.54it/s] \n",
      "epoch : 60 loss : 0.006945793982595205: 100%|██████████| 59/59 [00:01<00:00, 45.33it/s] \n",
      "epoch : 61 loss : 0.031884413212537766: 100%|██████████| 59/59 [00:00<00:00, 60.77it/s] \n",
      "epoch : 62 loss : 0.007634826470166445: 100%|██████████| 59/59 [00:01<00:00, 56.84it/s] \n",
      "epoch : 63 loss : 0.023007038980722427: 100%|██████████| 59/59 [00:01<00:00, 54.92it/s] \n",
      "epoch : 64 loss : 0.021537695080041885: 100%|██████████| 59/59 [00:01<00:00, 58.24it/s] \n",
      "epoch : 65 loss : 0.022158117964863777: 100%|██████████| 59/59 [00:01<00:00, 47.24it/s] \n",
      "epoch : 66 loss : 0.010133786126971245: 100%|██████████| 59/59 [00:01<00:00, 54.27it/s] \n",
      "epoch : 67 loss : 0.013740092515945435: 100%|██████████| 59/59 [00:01<00:00, 52.74it/s] \n",
      "epoch : 68 loss : 0.00818465556949377: 100%|██████████| 59/59 [00:01<00:00, 48.04it/s]  \n",
      "epoch : 69 loss : 0.012288498692214489: 100%|██████████| 59/59 [00:01<00:00, 51.36it/s] \n",
      "epoch : 70 loss : 0.007173581048846245: 100%|██████████| 59/59 [00:01<00:00, 48.04it/s] \n",
      "epoch : 71 loss : 0.00804871041327715: 100%|██████████| 59/59 [00:01<00:00, 52.70it/s]  \n",
      "epoch : 72 loss : 0.011106601916253567: 100%|██████████| 59/59 [00:01<00:00, 43.99it/s] \n",
      "epoch : 73 loss : 0.0072129862383008: 100%|██████████| 59/59 [00:01<00:00, 54.89it/s]   \n",
      "epoch : 74 loss : 0.007369828876107931: 100%|██████████| 59/59 [00:01<00:00, 49.24it/s] \n",
      "epoch : 75 loss : 0.01311187818646431: 100%|██████████| 59/59 [00:01<00:00, 55.77it/s]  \n",
      "epoch : 76 loss : 0.007616865914314985: 100%|██████████| 59/59 [00:01<00:00, 49.61it/s] \n",
      "epoch : 77 loss : 0.01709643565118313: 100%|██████████| 59/59 [00:01<00:00, 53.05it/s]  \n",
      "epoch : 78 loss : 0.008283593691885471: 100%|██████████| 59/59 [00:01<00:00, 46.59it/s] \n",
      "epoch : 79 loss : 0.022783426567912102: 100%|██████████| 59/59 [00:01<00:00, 53.63it/s] \n",
      "epoch : 80 loss : 0.009651778265833855: 100%|██████████| 59/59 [00:01<00:00, 51.66it/s] \n",
      "epoch : 81 loss : 0.015932416543364525: 100%|██████████| 59/59 [00:01<00:00, 57.00it/s] \n",
      "epoch : 82 loss : 0.01877959631383419: 100%|██████████| 59/59 [00:01<00:00, 50.78it/s] \n",
      "epoch : 83 loss : 0.01164652593433857: 100%|██████████| 59/59 [00:01<00:00, 57.46it/s]  \n",
      "epoch : 84 loss : 0.012945804744958878: 100%|██████████| 59/59 [00:01<00:00, 54.94it/s] \n",
      "epoch : 85 loss : 0.017229825258255005: 100%|██████████| 59/59 [00:01<00:00, 56.80it/s] \n",
      "epoch : 86 loss : 0.007641458418220282: 100%|██████████| 59/59 [00:01<00:00, 52.69it/s] \n",
      "epoch : 87 loss : 0.011658300645649433: 100%|██████████| 59/59 [00:01<00:00, 44.45it/s] \n",
      "epoch : 88 loss : 0.007414234336465597: 100%|██████████| 59/59 [00:01<00:00, 49.26it/s] \n",
      "epoch : 89 loss : 0.007744960021227598: 100%|██████████| 59/59 [00:01<00:00, 51.76it/s] \n",
      "epoch : 90 loss : 0.008337085135281086: 100%|██████████| 59/59 [00:01<00:00, 55.07it/s] \n",
      "epoch : 91 loss : 0.009585613384842873: 100%|██████████| 59/59 [00:01<00:00, 49.33it/s] \n",
      "epoch : 92 loss : 0.00763596361503005: 100%|██████████| 59/59 [00:01<00:00, 55.12it/s]  \n",
      "epoch : 93 loss : 0.008610866963863373: 100%|██████████| 59/59 [00:01<00:00, 52.08it/s] \n",
      "epoch : 94 loss : 0.007888423278927803: 100%|██████████| 59/59 [00:01<00:00, 55.12it/s] \n",
      "epoch : 95 loss : 0.01237326767295599: 100%|██████████| 59/59 [00:01<00:00, 51.08it/s]  \n",
      "epoch : 96 loss : 0.008090696297585964: 100%|██████████| 59/59 [00:01<00:00, 54.29it/s] \n",
      "epoch : 97 loss : 0.009151015430688858: 100%|██████████| 59/59 [00:01<00:00, 50.98it/s] \n",
      "epoch : 98 loss : 0.027857819572091103: 100%|██████████| 59/59 [00:01<00:00, 53.31it/s] \n",
      "epoch : 99 loss : 0.007672804407775402: 100%|██████████| 59/59 [00:01<00:00, 50.42it/s] \n",
      "epoch : 100 loss : 0.008810378611087799: 100%|██████████| 59/59 [00:01<00:00, 49.92it/s] \n",
      "epoch : 101 loss : 0.007807810325175524: 100%|██████████| 59/59 [00:01<00:00, 41.95it/s] \n",
      "epoch : 102 loss : 0.009242207743227482: 100%|██████████| 59/59 [00:01<00:00, 52.19it/s] \n",
      "epoch : 103 loss : 0.013983135111629963: 100%|██████████| 59/59 [00:01<00:00, 49.52it/s] \n",
      "epoch : 104 loss : 0.009716819040477276: 100%|██████████| 59/59 [00:01<00:00, 50.53it/s] \n",
      "epoch : 105 loss : 0.007323061116039753: 100%|██████████| 59/59 [00:01<00:00, 49.03it/s] \n",
      "epoch : 106 loss : 0.008212422020733356: 100%|██████████| 59/59 [00:01<00:00, 53.64it/s] \n",
      "epoch : 107 loss : 0.007811339572072029: 100%|██████████| 59/59 [00:01<00:00, 48.93it/s] \n",
      "epoch : 108 loss : 0.007306932471692562: 100%|██████████| 59/59 [00:01<00:00, 52.82it/s] \n",
      "epoch : 109 loss : 0.007676352746784687: 100%|██████████| 59/59 [00:01<00:00, 57.25it/s] \n",
      "epoch : 110 loss : 0.016622593626379967: 100%|██████████| 59/59 [00:01<00:00, 58.73it/s] \n",
      "epoch : 111 loss : 0.011616377159953117: 100%|██████████| 59/59 [00:01<00:00, 53.22it/s] \n",
      "epoch : 112 loss : 0.017817704007029533: 100%|██████████| 59/59 [00:01<00:00, 53.84it/s] \n",
      "epoch : 113 loss : 0.007224019151180983: 100%|██████████| 59/59 [00:01<00:00, 54.51it/s] \n",
      "epoch : 114 loss : 0.006953276228159666: 100%|██████████| 59/59 [00:01<00:00, 55.98it/s] \n",
      "epoch : 115 loss : 0.007000674493610859: 100%|██████████| 59/59 [00:01<00:00, 58.56it/s] \n",
      "epoch : 116 loss : 0.006742893718183041: 100%|██████████| 59/59 [00:01<00:00, 52.38it/s] \n",
      "epoch : 117 loss : 0.01795853301882744: 100%|██████████| 59/59 [00:01<00:00, 56.98it/s]  \n",
      "epoch : 118 loss : 0.023745374754071236: 100%|██████████| 59/59 [00:01<00:00, 56.67it/s] \n",
      "epoch : 119 loss : 0.02112114056944847: 100%|██████████| 59/59 [00:00<00:00, 61.01it/s]  \n",
      "epoch : 120 loss : 0.008805871941149235: 100%|██████████| 59/59 [00:01<00:00, 54.10it/s] \n",
      "epoch : 121 loss : 0.008792968466877937: 100%|██████████| 59/59 [00:01<00:00, 51.82it/s] \n",
      "epoch : 122 loss : 0.022115755826234818: 100%|██████████| 59/59 [00:01<00:00, 53.85it/s] \n",
      "epoch : 123 loss : 0.011530234478414059: 100%|██████████| 59/59 [00:01<00:00, 57.84it/s] \n",
      "epoch : 124 loss : 0.008370965719223022: 100%|██████████| 59/59 [00:01<00:00, 56.21it/s] \n",
      "epoch : 125 loss : 0.009287918917834759: 100%|██████████| 59/59 [00:01<00:00, 55.68it/s] \n",
      "epoch : 126 loss : 0.012501592747867107: 100%|██████████| 59/59 [00:01<00:00, 52.63it/s] \n",
      "epoch : 127 loss : 0.00705234007909894: 100%|██████████| 59/59 [00:01<00:00, 55.33it/s]  \n",
      "epoch : 128 loss : 0.008891723118722439: 100%|██████████| 59/59 [00:00<00:00, 60.41it/s] \n",
      "epoch : 129 loss : 0.007472060155123472: 100%|██████████| 59/59 [00:01<00:00, 56.38it/s] \n",
      "epoch : 130 loss : 0.007818343117833138: 100%|██████████| 59/59 [00:01<00:00, 51.28it/s] \n",
      "epoch : 131 loss : 0.008134002797305584: 100%|██████████| 59/59 [00:01<00:00, 52.23it/s] \n",
      "epoch : 132 loss : 0.008007396943867207: 100%|██████████| 59/59 [00:01<00:00, 58.29it/s] \n",
      "epoch : 133 loss : 0.007795383688062429: 100%|██████████| 59/59 [00:01<00:00, 56.33it/s] \n",
      "epoch : 134 loss : 0.00845473911613226: 100%|██████████| 59/59 [00:00<00:00, 61.08it/s]  \n",
      "epoch : 135 loss : 0.007805920671671629: 100%|██████████| 59/59 [00:01<00:00, 55.33it/s] \n",
      "epoch : 136 loss : 0.007610866334289312: 100%|██████████| 59/59 [00:01<00:00, 53.46it/s] \n",
      "epoch : 137 loss : 0.007696906104683876: 100%|██████████| 59/59 [00:01<00:00, 54.69it/s] \n",
      "epoch : 138 loss : 0.008789015002548695: 100%|██████████| 59/59 [00:01<00:00, 57.14it/s] \n",
      "epoch : 139 loss : 0.009077375754714012: 100%|██████████| 59/59 [00:00<00:00, 59.63it/s] \n",
      "epoch : 140 loss : 0.012850644066929817: 100%|██████████| 59/59 [00:01<00:00, 57.64it/s] \n",
      "epoch : 141 loss : 0.012386824004352093: 100%|██████████| 59/59 [00:01<00:00, 55.61it/s] \n",
      "epoch : 142 loss : 0.009429370984435081: 100%|██████████| 59/59 [00:01<00:00, 55.15it/s] \n",
      "epoch : 143 loss : 0.007824202999472618: 100%|██████████| 59/59 [00:01<00:00, 58.52it/s] \n",
      "epoch : 144 loss : 0.023425526916980743: 100%|██████████| 59/59 [00:01<00:00, 56.60it/s] \n",
      "epoch : 145 loss : 0.02755861170589924: 100%|██████████| 59/59 [00:01<00:00, 56.22it/s]  \n",
      "epoch : 146 loss : 0.02303680218756199: 100%|██████████| 59/59 [00:01<00:00, 56.07it/s]  \n",
      "epoch : 147 loss : 0.007059094961732626: 100%|██████████| 59/59 [00:01<00:00, 55.66it/s]\n",
      "epoch : 148 loss : 0.007915593683719635: 100%|██████████| 59/59 [00:01<00:00, 57.62it/s] \n",
      "epoch : 149 loss : 0.00646788626909256: 100%|██████████| 59/59 [00:01<00:00, 56.62it/s]  \n",
      "epoch : 150 loss : 0.006431966554373503: 100%|██████████| 59/59 [00:01<00:00, 50.87it/s] \n",
      "epoch : 151 loss : 0.006703715305775404: 100%|██████████| 59/59 [00:01<00:00, 49.49it/s] \n",
      "epoch : 152 loss : 0.006633209530264139: 100%|██████████| 59/59 [00:01<00:00, 51.77it/s] \n",
      "epoch : 153 loss : 0.010783962905406952: 100%|██████████| 59/59 [00:01<00:00, 53.41it/s] \n",
      "epoch : 154 loss : 0.006611907854676247: 100%|██████████| 59/59 [00:01<00:00, 55.17it/s] \n",
      "epoch : 155 loss : 0.008622808381915092: 100%|██████████| 59/59 [00:01<00:00, 48.14it/s] \n",
      "epoch : 156 loss : 0.006514306645840406: 100%|██████████| 59/59 [00:01<00:00, 48.03it/s] \n",
      "epoch : 157 loss : 0.007265695836395025: 100%|██████████| 59/59 [00:01<00:00, 53.45it/s] \n",
      "epoch : 158 loss : 0.009459379129111767: 100%|██████████| 59/59 [00:01<00:00, 51.06it/s] \n",
      "epoch : 159 loss : 0.015737250447273254: 100%|██████████| 59/59 [00:01<00:00, 54.97it/s] \n",
      "epoch : 160 loss : 0.008894666098058224: 100%|██████████| 59/59 [00:01<00:00, 45.77it/s] \n",
      "epoch : 161 loss : 0.006815423257648945: 100%|██████████| 59/59 [00:01<00:00, 46.22it/s] \n",
      "epoch : 162 loss : 0.005695913452655077: 100%|██████████| 59/59 [00:01<00:00, 49.82it/s] \n",
      "epoch : 163 loss : 0.012471809983253479: 100%|██████████| 59/59 [00:01<00:00, 48.85it/s] \n",
      "epoch : 164 loss : 0.007794771809130907: 100%|██████████| 59/59 [00:01<00:00, 37.34it/s] \n",
      "epoch : 165 loss : 0.00858735479414463: 100%|██████████| 59/59 [00:01<00:00, 47.15it/s]  \n",
      "epoch : 166 loss : 0.005960014648735523: 100%|██████████| 59/59 [00:01<00:00, 47.21it/s] \n",
      "epoch : 167 loss : 0.005571229849010706: 100%|██████████| 59/59 [00:01<00:00, 48.83it/s] \n",
      "epoch : 168 loss : 0.027772562578320503: 100%|██████████| 59/59 [00:01<00:00, 55.80it/s] \n",
      "epoch : 169 loss : 0.005811169743537903: 100%|██████████| 59/59 [00:01<00:00, 52.56it/s] \n",
      "epoch : 170 loss : 0.005749903153628111: 100%|██████████| 59/59 [00:01<00:00, 57.83it/s] \n",
      "epoch : 171 loss : 0.0070404475554823875: 100%|██████████| 59/59 [00:01<00:00, 50.61it/s]\n",
      "epoch : 172 loss : 0.008159665390849113: 100%|██████████| 59/59 [00:01<00:00, 49.94it/s] \n",
      "epoch : 173 loss : 0.006174694746732712: 100%|██████████| 59/59 [00:01<00:00, 54.86it/s] \n",
      "epoch : 174 loss : 0.006501933094114065: 100%|██████████| 59/59 [00:01<00:00, 53.59it/s] \n",
      "epoch : 175 loss : 0.006872130092233419: 100%|██████████| 59/59 [00:01<00:00, 50.52it/s]  \n",
      "epoch : 176 loss : 0.006314122583717108: 100%|██████████| 59/59 [00:01<00:00, 51.13it/s] \n",
      "epoch : 177 loss : 0.01673898845911026: 100%|██████████| 59/59 [00:01<00:00, 42.26it/s]  \n",
      "epoch : 178 loss : 0.007299801334738731: 100%|██████████| 59/59 [00:01<00:00, 44.87it/s] \n",
      "epoch : 179 loss : 0.007192223332822323: 100%|██████████| 59/59 [00:01<00:00, 44.95it/s] \n",
      "epoch : 180 loss : 0.007661295589059591: 100%|██████████| 59/59 [00:01<00:00, 48.50it/s] \n",
      "epoch : 181 loss : 0.0058949352242052555: 100%|██████████| 59/59 [00:01<00:00, 48.27it/s]\n",
      "epoch : 182 loss : 0.018122641369700432: 100%|██████████| 59/59 [00:01<00:00, 49.89it/s] \n",
      "epoch : 183 loss : 0.005930102430284023: 100%|██████████| 59/59 [00:01<00:00, 47.64it/s] \n",
      "epoch : 184 loss : 0.00587723683565855: 100%|██████████| 59/59 [00:01<00:00, 54.14it/s]  \n",
      "epoch : 185 loss : 0.009389120154082775: 100%|██████████| 59/59 [00:01<00:00, 50.45it/s] \n",
      "epoch : 186 loss : 0.007554197683930397: 100%|██████████| 59/59 [00:01<00:00, 49.92it/s] \n",
      "epoch : 187 loss : 0.006685259286314249: 100%|██████████| 59/59 [00:01<00:00, 49.85it/s] \n",
      "epoch : 188 loss : 0.006272969301789999: 100%|██████████| 59/59 [00:01<00:00, 51.74it/s] \n",
      "epoch : 189 loss : 0.005526968277990818: 100%|██████████| 59/59 [00:01<00:00, 49.86it/s] \n",
      "epoch : 190 loss : 0.00737405102699995: 100%|██████████| 59/59 [00:01<00:00, 41.22it/s]  \n",
      "epoch : 191 loss : 0.005525865126401186: 100%|██████████| 59/59 [00:01<00:00, 40.45it/s] \n",
      "epoch : 192 loss : 0.007587948814034462: 100%|██████████| 59/59 [00:01<00:00, 41.91it/s] \n",
      "epoch : 193 loss : 0.005814090836793184: 100%|██████████| 59/59 [00:01<00:00, 39.23it/s] \n",
      "epoch : 194 loss : 0.00570098590105772: 100%|██████████| 59/59 [00:01<00:00, 47.60it/s]  \n",
      "epoch : 195 loss : 0.006437376607209444: 100%|██████████| 59/59 [00:01<00:00, 41.85it/s] \n",
      "epoch : 196 loss : 0.006240887567400932: 100%|██████████| 59/59 [00:01<00:00, 56.55it/s] \n",
      "epoch : 197 loss : 0.018401339650154114: 100%|██████████| 59/59 [00:01<00:00, 53.26it/s] \n",
      "epoch : 198 loss : 0.006630227901041508: 100%|██████████| 59/59 [00:01<00:00, 53.87it/s] \n",
      "epoch : 199 loss : 0.006870497018098831: 100%|██████████| 59/59 [00:01<00:00, 54.38it/s] \n",
      "epoch : 200 loss : 0.005875099450349808: 100%|██████████| 59/59 [00:01<00:00, 58.09it/s] \n"
     ]
    }
   ],
   "source": [
    "from tqdm import tqdm\n",
    "# criterian = nn.MSELoss()\n",
    "for epoch in range(200):\n",
    "    loop = tqdm(loader)\n",
    "    for data, label in loop:\n",
    "        optim.zero_grad()\n",
    "\n",
    "        # 초기 은닉상태의 배치크기는 DataLoader가 주는 배치 크기\n",
    "        batch_size = data.size(0)\n",
    "\n",
    "        # 초기 은닉상태\n",
    "        ho = torch.zeros(5,batch_size,8).to(device)\n",
    "        # 모델의 예측값\n",
    "        pred = model(data.to(device),ho)\n",
    "        # 손실값\n",
    "        # loss = criterian(pred,label.to(device))\n",
    "        loss = nn.MSELoss()(pred,label.to(device)) # 변수를 사용하지않고 사용한다면, 이렇게 호출해야된다\n",
    "        loss.backward()\n",
    "        optim.step()\n",
    "\n",
    "        loop.set_description(f'epoch : {epoch+1} loss : {loss.item()}')\n",
    "    torch.save(model.state_dict(),'./rnn.pth')"
   ]
  },
  {
   "cell_type": "code",
   "execution_count": 16,
   "id": "5c9b42dc",
   "metadata": {},
   "outputs": [
    {
     "name": "stderr",
     "output_type": "stream",
     "text": [
      "c:\\Users\\Playdata2\\miniconda3\\Lib\\site-packages\\torch\\nn\\modules\\loss.py:634: UserWarning: Using a target size (torch.Size([1, 1])) that is different to the input size (torch.Size([1])). This will likely lead to incorrect results due to broadcasting. Please ensure they have the same size.\n",
      "  return F.mse_loss(input, target, reduction=self.reduction)\n"
     ]
    },
    {
     "name": "stdout",
     "output_type": "stream",
     "text": [
      "total_loss : 0.0227\n"
     ]
    }
   ],
   "source": [
    "# 모델 성능 평가하기 ^\n",
    "import matplotlib.pyplot as plt\n",
    "\n",
    "loader = DataLoader(dataset,batch_size=1)\n",
    "preds = []\n",
    "total_loss = 0\n",
    "with torch.no_grad():\n",
    "    model.load_state_dict(torch.load('rnn.pth',map_location=device,weights_only=False))\n",
    "    for data,label in loader:\n",
    "        # 초기 은닉상태의 배치크기는 DataLoader가 주는 배치 크기\n",
    "        batch_size = data.size(0)\n",
    "\n",
    "        # 초기 은닉상태\n",
    "        ho = torch.zeros(5,batch_size,8).to(device)\n",
    "        # 모델의 예측값\n",
    "        pred = model(data.to(device),ho)\n",
    "        # print(pred)\n",
    "        preds.append(pred)\n",
    "        \n",
    "        # 손실값\n",
    "        loss = nn.MSELoss()(pred,label.to(device))\n",
    "        total_loss += (loss.item() / len(loader))\n",
    "print(f'total_loss : {total_loss:.4f}')"
   ]
  },
  {
   "cell_type": "code",
   "execution_count": 17,
   "id": "d0b82554",
   "metadata": {},
   "outputs": [],
   "source": [
    "# 좀 더 단순화 하는 방법 및 절차 다시 정리해보기 ^\n",
    "    # 초기은닉상태 생성 함수 생성\n",
    "    # 모델예측과 손실계산 함수 생성"
   ]
  },
  {
   "cell_type": "code",
   "execution_count": 18,
   "id": "6566b0ee",
   "metadata": {},
   "outputs": [
    {
     "data": {
      "image/png": "[encoded data removed]",
      "text/plain": [
       "<Figure size 1200x500 with 1 Axes>"
      ]
     },
     "metadata": {},
     "output_type": "display_data"
    }
   ],
   "source": [
    "plt.figure(figsize=(12,5))\n",
    "plt.plot(preds,label='preds')\n",
    "plt.plot(dataset.label[30:], label = 'real')\n",
    "plt.legend()\n",
    "plt.show() "
   ]
  },
  {
   "cell_type": "code",
   "execution_count": 19,
   "id": "09d0eef9",
   "metadata": {},
   "outputs": [
    {
     "ename": "AttributeError",
     "evalue": "'torch.Size' object has no attribute 'to'",
     "output_type": "error",
     "traceback": [
      "\u001b[31m---------------------------------------------------------------------------\u001b[39m",
      "\u001b[31mAttributeError\u001b[39m                            Traceback (most recent call last)",
      "\u001b[36mCell\u001b[39m\u001b[36m \u001b[39m\u001b[32mIn[19]\u001b[39m\u001b[32m, line 6\u001b[39m\n\u001b[32m      4\u001b[39m \u001b[38;5;66;03m# (num_layer, batch, hidden)\u001b[39;00m\n\u001b[32m      5\u001b[39m ho = torch.zeros(\u001b[32m5\u001b[39m,\u001b[32m1\u001b[39m,\u001b[32m8\u001b[39m).to(device)\n\u001b[32m----> \u001b[39m\u001b[32m6\u001b[39m pred = model(\u001b[43mX\u001b[49m\u001b[43m.\u001b[49m\u001b[43mto\u001b[49m(device),ho)\n\u001b[32m      7\u001b[39m \u001b[38;5;28mprint\u001b[39m(pred.item())\n",
      "\u001b[31mAttributeError\u001b[39m: 'torch.Size' object has no attribute 'to'"
     ]
    }
   ],
   "source": [
    "with torch.no_grad():\n",
    "    last_30 = df.iloc[:,1:-1].values\n",
    "    X = torch.tensor(last_30).unsqueeze(0).size()\n",
    "    # (num_layer, batch, hidden)\n",
    "    ho = torch.zeros(5,1,8).to(device)\n",
    "    pred = model(X.to(device),ho)\n",
    "    print(pred.item())"
   ]
  },
  {
   "cell_type": "code",
   "execution_count": null,
   "id": "85ae6af6",
   "metadata": {},
   "outputs": [],
   "source": [
    "# @\n",
    "# yfinance\n",
    "X = np.array([\n",
    "    [10,20],[100,200]\n",
    "])\n",
    "scaler = StandardScaler()\n",
    "X_scaled = scaler.fit_transform(X)\n",
    "X_scaled"
   ]
  },
  {
   "cell_type": "code",
   "execution_count": null,
   "id": "ad8ac56f",
   "metadata": {},
   "outputs": [],
   "source": [
    "\n",
    "scaler.inverse_transform(X_scaled)"
   ]
  },
  {
   "cell_type": "code",
   "execution_count": null,
   "id": "143d621f",
   "metadata": {},
   "outputs": [],
   "source": [
    "\n",
    "%pip install yfinance"
   ]
  },
  {
   "cell_type": "code",
   "execution_count": null,
   "id": "ad9748c0",
   "metadata": {},
   "outputs": [],
   "source": [
    "\n",
    "import yfinance as yf\n",
    "dat = yf.Ticker(\"TSLA\")\n",
    "dat.history(period='1y')"
   ]
  },
  {
   "cell_type": "code",
   "execution_count": null,
   "id": "4a8040ee",
   "metadata": {},
   "outputs": [],
   "source": [
    "\n",
    "# 독립변수 , 종속변수 분리\n",
    "# window size : 30(한달치 데이터를 하나의 dataset)\n",
    "# 배치는 3배치\n",
    "# 알고리즘은 RNN"
   ]
  }
 ],
 "metadata": {
  "kernelspec": {
   "display_name": "base",
   "language": "python",
   "name": "python3"
  },
  "language_info": {
   "codemirror_mode": {
    "name": "ipython",
    "version": 3
   },
   "file_extension": ".py",
   "mimetype": "text/x-python",
   "name": "python",
   "nbconvert_exporter": "python",
   "pygments_lexer": "ipython3",
   "version": "3.13.7"
  }
 },
 "nbformat": 4,
 "nbformat_minor": 5
}
