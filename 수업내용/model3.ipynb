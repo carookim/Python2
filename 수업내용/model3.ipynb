{
 "cells": [
  {
   "cell_type": "code",
   "execution_count": null,
   "id": "02d2f105",
   "metadata": {},
   "outputs": [],
   "source": [
    "# %pip install matplotlib\n",
    "# %pip install scikit-learn\n",
    "# %pip install numpy"
   ]
  },
  {
   "cell_type": "code",
   "execution_count": null,
   "id": "49e6a373",
   "metadata": {},
   "outputs": [],
   "source": [
    "A_length = [25.4, 26.3, 26.5, 29.0, 29.0, 29.7, 29.7, 30.0, 30.0, 30.7, 31.0, 31.0, 31.5, 32.0, 32.0, 32.0, 33.0, 33.0, 33.5, 33.5, 34.0, 34.0, 34.5, 35.0, 35.0, 35.0, 35.0, 36.0, 36.0, 37.0, 38.5, 38.5, 39.5, 41.0, 41.0]\n",
    "A_weight = [242.0, 290.0, 340.0, 363.0, 430.0, 450.0, 500.0, 390.0, 450.0, 500.0, 475.0, 500.0, 500.0, 340.0, 600.0, 600.0, 700.0, 700.0, 610.0, 650.0, 575.0, 685.0, 620.0, 680.0, 700.0, 725.0, 720.0, 714.0, 850.0, 1000.0, 920.0, 955.0, 925.0, 975.0, 950.0]"
   ]
  },
  {
   "cell_type": "code",
   "execution_count": null,
   "id": "813c3e06",
   "metadata": {},
   "outputs": [],
   "source": [
    "import matplotlib.pyplot as plt\n",
    "plt.scatter(A_length,A_weight)\n"
   ]
  },
  {
   "cell_type": "code",
   "execution_count": null,
   "id": "25fe459d",
   "metadata": {},
   "outputs": [],
   "source": [
    "B_length = [9.8, 10.5, 10.6, 11.0, 11.2, 11.3, 11.8, 11.8, 12.0, 12.2, 12.4, 13.0, 14.3, 15.0]\n",
    "B_weight = [6.7, 7.5, 7.0, 9.7, 9.8, 8.7, 10.0, 9.9, 9.8, 12.2, 13.4, 12.2, 19.7, 19.9]"
   ]
  },
  {
   "cell_type": "code",
   "execution_count": null,
   "id": "0c9f4dfa",
   "metadata": {},
   "outputs": [],
   "source": [
    "plt.scatter(A_length,A_weight,label='A')\n",
    "plt.scatter(B_length,B_weight,label='B')\n",
    "plt.legend()\n",
    "plt.show()"
   ]
  },
  {
   "cell_type": "code",
   "execution_count": null,
   "id": "3937d6b1",
   "metadata": {},
   "outputs": [],
   "source": [
    "# 사이킷런 데이터 넣기\n",
    "# 2차원데이터 형태 : 넘파이 혹은 데이터 프레임"
   ]
  },
  {
   "cell_type": "code",
   "execution_count": null,
   "id": "13d58589",
   "metadata": {},
   "outputs": [],
   "source": [
    "length = A_length + B_length\n",
    "weight = A_weight + B_length\n",
    "X = [[a,b] for a,b in zip(length,weight)]\n",
    "y = [1]*len(A_length) + [0]*len(B_length) # A_length 길이 만큼 1을 넣고, B_length 길이 만큼 0을 넣는다."
   ]
  },
  {
   "cell_type": "markdown",
   "id": "248e958f",
   "metadata": {},
   "source": [
    "#### 머신러닝 - 분류 알고리즘, 모델\n",
    "    > 1. KNN : K-최근접 이웃 모델"
   ]
  },
  {
   "cell_type": "code",
   "execution_count": null,
   "id": "57195754",
   "metadata": {},
   "outputs": [],
   "source": [
    "# KNN\n",
    "# K-최근접 이웃 모델\n",
    "from sklearn.neighbors import KNeighborsClassifier\n",
    "knn = KNeighborsClassifier()\n",
    "knn.fit(X,y)\n",
    "knn.score(X,y)"
   ]
  },
  {
   "cell_type": "code",
   "execution_count": null,
   "id": "54f16b48",
   "metadata": {},
   "outputs": [],
   "source": [
    "# (30,600) 일때 이것은 과연 어느 그룹인가?\n",
    "plt.scatter(A_length,A_weight,label='A(1)')\n",
    "plt.scatter(B_length,B_weight,label='B(0)')\n",
    "plt.scatter(30,600,label='who',marker='x')\n",
    "plt.legend()\n",
    "plt.show()"
   ]
  },
  {
   "cell_type": "code",
   "execution_count": null,
   "id": "386e743f",
   "metadata": {},
   "outputs": [],
   "source": [
    "knn.predict([[30,600]])\n",
    "# 2차원 데이터 로 넣는다.\n",
    "# knn.predict(X) 이런 형식으로 인자 X 하나를 전달한다."
   ]
  },
  {
   "cell_type": "code",
   "execution_count": null,
   "id": "17e0ba11",
   "metadata": {},
   "outputs": [],
   "source": [
    "knn = KNeighborsClassifier(n_neighbors=len(X))\n",
    "knn.fit(X,y)\n",
    "knn.score(X,y)"
   ]
  },
  {
   "cell_type": "code",
   "execution_count": null,
   "id": "b7d8231c",
   "metadata": {},
   "outputs": [],
   "source": [
    "len(A_length) / len(X)"
   ]
  },
  {
   "cell_type": "code",
   "execution_count": null,
   "id": "5c6f6662",
   "metadata": {},
   "outputs": [],
   "source": [
    "plt.scatter(A_length,A_weight,label='A(1)')\n",
    "plt.scatter(B_length,B_weight,label='B(0)')\n",
    "plt.scatter(13,50,label='who',marker='x')\n",
    "plt.legend()\n",
    "plt.show()"
   ]
  },
  {
   "cell_type": "code",
   "execution_count": null,
   "id": "f3a2657f",
   "metadata": {},
   "outputs": [],
   "source": [
    "# 육안으로 보기에는 B에 속하는 것처럼 보인다.\n",
    "# 하지만 n_neighbors=len(X)을 적용한 모델에게 예측을시키면"
   ]
  },
  {
   "cell_type": "code",
   "execution_count": null,
   "id": "adb4e191",
   "metadata": {},
   "outputs": [],
   "source": [
    "# (13,50)\n",
    "knn.predict([[13,50]])"
   ]
  },
  {
   "cell_type": "code",
   "execution_count": null,
   "id": "fc96e58f",
   "metadata": {},
   "outputs": [],
   "source": [
    "# A(1)가 나온다."
   ]
  },
  {
   "cell_type": "code",
   "execution_count": null,
   "id": "22680f53",
   "metadata": {},
   "outputs": [],
   "source": [
    "# 데이터 분할 케이스 1 - 분할 7:3\n",
    "split_num = int(len(X)*0.7)\n",
    "X_train, y_train = X[: split_num], y[: split_num]\n",
    "X_test, y_test = X[split_num : ], y[split_num :]\n",
    "print(X)\n",
    "print(X_train)\n",
    "print(X_test)"
   ]
  },
  {
   "cell_type": "code",
   "execution_count": null,
   "id": "efee17a3",
   "metadata": {},
   "outputs": [],
   "source": [
    "# # 데이터 분할 케이스 2 - 분할 8:2\n",
    "# split_num = int(len(X)*0.8)\n",
    "# X_train, y_train = X[: split_num], y[: split_num]\n",
    "# X_test, y_test = X[split_num : ], y[split_num :]\n",
    "# print(X)\n",
    "# print(X_train)\n",
    "# print(X_test)"
   ]
  },
  {
   "cell_type": "code",
   "execution_count": null,
   "id": "61fc7512",
   "metadata": {},
   "outputs": [],
   "source": [
    "knn = KNeighborsClassifier()\n",
    "knn.fit(X_train,y_train)\n",
    "knn.score(X_train,y_train), knn.score(X_test,y_test)"
   ]
  },
  {
   "cell_type": "code",
   "execution_count": null,
   "id": "0b376d8d",
   "metadata": {},
   "outputs": [],
   "source": [
    "import numpy as np\n",
    "np.unique(y_train,return_counts=True)"
   ]
  },
  {
   "cell_type": "code",
   "execution_count": null,
   "id": "67a7dd52",
   "metadata": {},
   "outputs": [],
   "source": [
    "# 이런 결과가 나오는 이유는\n",
    "# 분할한 데이터내에서 한쪽 클래스로만 치우쳐져있기 때문\n",
    "# 초반에 데이터를 만들때 순차적으로 데이터를 추가했고\n",
    "# 그걸 슬라이싱으로 앞부분 뒷부분으로 나눠 잘랐다."
   ]
  },
  {
   "cell_type": "code",
   "execution_count": null,
   "id": "90ab76cc",
   "metadata": {},
   "outputs": [],
   "source": [
    "# 데이터 섞기\n",
    "from sklearn.model_selection import train_test_split\n",
    "X_train,X_test,y_train,y_test = train_test_split(X,y,random_state=42,stratify=y)\n",
    "knn = KNeighborsClassifier()\n",
    "knn.fit(X_train,y_train)"
   ]
  },
  {
   "cell_type": "code",
   "execution_count": null,
   "id": "b5fed089",
   "metadata": {},
   "outputs": [],
   "source": [
    "knn.score(X_train,y_train), knn.score(X_test,y_test)"
   ]
  },
  {
   "cell_type": "code",
   "execution_count": null,
   "id": "de99a0ef",
   "metadata": {},
   "outputs": [],
   "source": [
    "plt.scatter(A_length,A_weight,label='A(1)')\n",
    "plt.scatter(B_length,B_weight,label='B(0)')\n",
    "plt.scatter(25,150,label='who',marker='x')\n",
    "plt.legend()\n",
    "plt.show()"
   ]
  },
  {
   "cell_type": "code",
   "execution_count": null,
   "id": "45c6b217",
   "metadata": {},
   "outputs": [],
   "source": [
    "# 육안으로 보기에는 A(1)에 속하는 것처럼 보인다."
   ]
  },
  {
   "cell_type": "code",
   "execution_count": null,
   "id": "968e7f4d",
   "metadata": {},
   "outputs": [],
   "source": [
    "knn.predict([[25,150]])"
   ]
  },
  {
   "cell_type": "code",
   "execution_count": null,
   "id": "fdf411ba",
   "metadata": {},
   "outputs": [],
   "source": [
    "distances, index = knn.kneighbors([[25,150]])\n",
    "# (25,150)을 기준으로 k(기본값 5)개 만큼 주위 데이터를 조회"
   ]
  },
  {
   "cell_type": "code",
   "execution_count": null,
   "id": "68709987",
   "metadata": {},
   "outputs": [],
   "source": [
    "# 육안으로 보기에는 A(1)클래스의 데이터들이 가까워보이지만, 이것은 그래프 단위차이로 인해 보이는 착시현상으로\n",
    "# 실제로 B(0)클래스의 데이터가 가까운 이웃이 맞다.\n",
    "\n",
    "# 이것이 스케일링을 하는 이유중 하나이다.\n",
    "# 그래프 시각 착시 제거 : 눈으로 본 분포 왜곡을 방지"
   ]
  },
  {
   "cell_type": "code",
   "execution_count": null,
   "id": "60de31e3",
   "metadata": {},
   "outputs": [],
   "source": [
    "knn.predict([[25,150]])\n"
   ]
  },
  {
   "cell_type": "code",
   "execution_count": null,
   "id": "17147bd8",
   "metadata": {},
   "outputs": [],
   "source": [
    "\n",
    "distances, indexs = knn.kneighbors([[25,150]])\n",
    "plt.scatter(A_length,A_weight,label='A(1)')\n",
    "plt.scatter(B_length, B_weight, label='B(0)')\n",
    "plt.scatter(25,150,label = 'who?',marker = 'x')\n",
    "plt.scatter(np.array(X_train)[indexs,0],np.array(X_train)[indexs,1],\n",
    "            label = 'neighbors',marker = '^',color='red')\n",
    "plt.legend()\n",
    "plt.show()\n"
   ]
  },
  {
   "cell_type": "code",
   "execution_count": null,
   "id": "be96b853",
   "metadata": {},
   "outputs": [],
   "source": [
    "\n",
    "distances, indexs = knn.kneighbors([[25,150]])\n",
    "plt.scatter(A_length,A_weight,label='A(1)')\n",
    "plt.scatter(B_length, B_weight, label='B(0)')\n",
    "plt.scatter(25,150,label = 'who?',marker = 'x')\n",
    "plt.scatter(np.array(X_train)[indexs,0],np.array(X_train)[indexs,1],\n",
    "            label = 'neighbors',marker = '^',color='red')\n",
    "plt.xlim(0,1000)\n",
    "plt.ylim(-100,1500)\n",
    "plt.legend()\n"
   ]
  },
  {
   "cell_type": "code",
   "execution_count": null,
   "id": "fdb97cfd",
   "metadata": {},
   "outputs": [],
   "source": [
    "\n",
    "from sklearn.preprocessing import StandardScaler\n",
    "scaler = StandardScaler()\n",
    "convert_array_a = np.array(list(zip(A_length,A_weight)))\n",
    "convert_array_b = np.array(list(zip(B_length,B_weight)))\n",
    "scaled_a = scaler.fit_transform(convert_array_a)\n",
    "scaled_b = scaler.transform(convert_array_b)\n",
    "#\n",
    "distances, indexs = knn.kneighbors([[25,150]])\n",
    "plt.scatter(scaled_a[:,0],scaled_a[:,1],label='A(1)')\n",
    "plt.scatter(scaled_b[:,0], scaled_b[:,1], label='B(0)')\n",
    "who_point = scaler.transform([[25,150]])\n",
    "plt.scatter(who_point[:,0],who_point[:,1],label = 'who?',marker = 'x')\n",
    "plt.legend()\n",
    "plt.show()\n",
    "who_point\n"
   ]
  },
  {
   "cell_type": "code",
   "execution_count": null,
   "id": "6e92f716",
   "metadata": {},
   "outputs": [],
   "source": [
    "\n",
    "A_length\n"
   ]
  },
  {
   "cell_type": "code",
   "execution_count": null,
   "id": "ae2a5965",
   "metadata": {},
   "outputs": [],
   "source": [
    "\n",
    "# 데이터 섞기\n",
    "from sklearn.model_selection import train_test_split\n",
    "from sklearn.preprocessing import StandardScaler\n",
    "X_train,X_test,y_train,y_test =  train_test_split(X,y,random_state=42,stratify=y)\n",
    "# 정규화\n",
    "scaler = StandardScaler()\n",
    "X_train_scaled = scaler.fit_transform(X_train)\n",
    "knn = KNeighborsClassifier()\n",
    "knn.fit(X_train_scaled,y_train)\n",
    "knn.predict([[25,150]])\n"
   ]
  },
  {
   "cell_type": "code",
   "execution_count": null,
   "id": "7baf9736",
   "metadata": {},
   "outputs": [],
   "source": [
    "\n",
    "# np.array(X_train)\n",
    "np.array(y_train) == 1\n"
   ]
  },
  {
   "cell_type": "code",
   "execution_count": null,
   "id": "f8aa35f8",
   "metadata": {},
   "outputs": [],
   "source": [
    "\n",
    "predicted_points = scaler.transform([[25,150]])\n",
    "predicted_points[:,0][0]\n",
    "_, indexs = knn.kneighbors(predicted_points)\n"
   ]
  },
  {
   "cell_type": "code",
   "execution_count": null,
   "id": "3fddce09",
   "metadata": {},
   "outputs": [],
   "source": [
    "\n",
    "plt.scatter(X_train_scaled[np.array(y_train) == 1,0], \n",
    "            X_train_scaled[np.array(y_train)==1,1] )\n",
    "#\n",
    "plt.scatter(X_train_scaled[np.array(y_train) == 0,0], \n",
    "            X_train_scaled[np.array(y_train)==0,1] )\n",
    "plt.scatter(X_train_scaled[indexs,0],X_train_scaled[indexs,1])\n",
    "plt.scatter(predicted_points[:,0],predicted_points[:,1])\n",
    "plt.show()"
   ]
  },
  {
   "cell_type": "code",
   "execution_count": null,
   "id": "7dc68ee7",
   "metadata": {},
   "outputs": [],
   "source": [
    "A_length = [25.4, 26.3, 26.5, 29.0, 29.0, 29.7, 29.7, 30.0, 30.0, 30.7, 31.0, 31.0, 31.5, 32.0, 32.0, 32.0, 33.0, 33.0, 33.5, 33.5, 34.0, 34.0, 34.5, 35.0, 35.0, 35.0, 35.0, 36.0, 36.0, 37.0, 38.5, 38.5, 39.5, 41.0, 41.0]\n",
    "A_weight = [242.0, 290.0, 340.0, 363.0, 430.0, 450.0, 500.0, 390.0, 450.0, 500.0, 475.0, 500.0, 500.0, 340.0, 600.0, 600.0, 700.0, 700.0, 610.0, 650.0, 575.0, 685.0, 620.0, 680.0, 700.0, 725.0, 720.0, 714.0, 850.0, 1000.0, 920.0, 955.0, 925.0, 975.0, 950.0]\n",
    "B_length = [9.8, 10.5, 10.6, 11.0, 11.2, 11.3, 11.8, 11.8, 12.0, 12.2, 12.4, 13.0, 14.3, 15.0]\n",
    "B_weight = [6.7, 7.5, 7.0, 9.7, 9.8, 8.7, 10.0, 9.9, 9.8, 12.2, 13.4, 12.2, 19.7, 19.9]"
   ]
  },
  {
   "cell_type": "code",
   "execution_count": null,
   "id": "bff6f802",
   "metadata": {},
   "outputs": [],
   "source": [
    "X = np.array(list(zip(A_length + B_length, A_weight + B_length)))"
   ]
  },
  {
   "cell_type": "code",
   "execution_count": null,
   "id": "103ca9de",
   "metadata": {},
   "outputs": [],
   "source": [
    "y = np.array([1]*len(A_length)+[0]*len(B_length))"
   ]
  },
  {
   "cell_type": "code",
   "execution_count": null,
   "id": "4d378f24",
   "metadata": {},
   "outputs": [],
   "source": [
    "X.shape ,y.shape"
   ]
  },
  {
   "cell_type": "code",
   "execution_count": null,
   "id": "85ddea3d",
   "metadata": {},
   "outputs": [],
   "source": [
    "# 데이터를 잘 섞어서 분할\n",
    "from sklearn.model_selection import train_test_split\n",
    "X_train,X_test,y_train,y_test = train_test_split(X, y, random_state=42, stratify=y)\n",
    "\n",
    "# 스케일링\n",
    "from sklearn.preprocessing import StandardScaler\n",
    "scaler = StandardScaler()\n",
    "X_train_scaled = scaler.fit_transform(X_train)\n",
    "X_test_scaled = scaler.transform(X_test) # 일관성을 위해서 입력값들끼리는 스케일링\n",
    "                                         # y값들에는 스케일링을 하지않아도된다. 분류값, 결과값이기 때문.\n",
    "\n",
    "# 학습\n",
    "from sklearn.neighbors import KNeighborsClassifier\n",
    "knn = KNeighborsClassifier()\n",
    "knn.fit(X_train_scaled,y_train)\n",
    "\n",
    "# [25,150] 을 predict하면 1이 출력되는 지 확인\n",
    "knn.predict([[25,150]])"
   ]
  },
  {
   "cell_type": "code",
   "execution_count": null,
   "id": "586d4946",
   "metadata": {},
   "outputs": [],
   "source": [
    "# 파이프라인\n",
    "from sklearn.pipeline import Pipeline\n",
    "pipe = Pipeline([\n",
    "    ('scaler',StandardScaler()),\n",
    "    ('model',KNeighborsClassifier())\n",
    "])\n",
    "\n",
    "X_train,X_test,y_train,y_test = train_test_split(X, y, random_state=42, stratify=y)\n",
    "# train_test_split pipeline에 적용 가능할까?\n",
    "\n",
    "pipe.fit(X_train,y_train) # 여기서 저절로 standardscaler는 y 데이터에 적용 되지않는 건지 ^\n",
    "pipe.predict([[25,150]])"
   ]
  },
  {
   "cell_type": "code",
   "execution_count": null,
   "id": "d1b3b0bf",
   "metadata": {},
   "outputs": [],
   "source": [
    "# 딥러닝 : 클래스(nn.Module) nn.Sequential 조립\n",
    "import torch\n",
    "import torch.nn as nn"
   ]
  },
  {
   "cell_type": "code",
   "execution_count": null,
   "id": "84d93eb7",
   "metadata": {},
   "outputs": [],
   "source": [
    "X.shape # 인공신경망에 들어갈 데이터 갯수 : X의 속성,열 갯수"
   ]
  },
  {
   "cell_type": "code",
   "execution_count": null,
   "id": "642022d8",
   "metadata": {},
   "outputs": [],
   "source": [
    "model = nn.Sequential(\n",
    "    nn.Linear(2, 8),\n",
    "    nn.ReLU(),\n",
    "    nn.Linear(8, 4),\n",
    "    nn.ReLU(),\n",
    "    nn.Linear(4, 2) # output\n",
    ")"
   ]
  },
  {
   "cell_type": "code",
   "execution_count": null,
   "id": "c6520780",
   "metadata": {},
   "outputs": [],
   "source": [
    "# 입력데이터를 텐서 형태로 만들기\n",
    "X_tensor = torch.tensor(X)\n",
    "y_tensor = torch.tensor(y)\n",
    "X_train,X_test,y_train,y_test = train_test_split(X_tensor, y_tensor, random_state=42, stratify=y)"
   ]
  },
  {
   "cell_type": "code",
   "execution_count": null,
   "id": "43073c83",
   "metadata": {},
   "outputs": [],
   "source": [
    "import torch.optim as optim\n",
    "# 모델 장치 지정\n",
    "device = \"cuda\" if torch.cuda.is_available() else 'cpu'\n",
    "model.to(device)\n",
    "\n",
    "# 하이퍼 파리미터 설정\n",
    "lr = 1e-03\n",
    "epochs = 300\n",
    "\n",
    "# 손실함수 / 옵티마이저\n",
    "criterian = nn.CrossEntropyLoss() # softmax + log # 이걸 사용하지않아도 되는 이유 ^\n",
    "optim = optim.Adam(model.parameters(), lr=lr)\n",
    "\n",
    "X_train = torch.tensor(X_train, dtype=torch.float32)\n",
    "y_train = torch.tensor(y_train, dtype = torch.long)\n",
    "\n",
    "# batch = full dataset\n",
    "for epoch in range(epochs):\n",
    "    optim.zero_grad() # 누적된 그라디언트 초기화\n",
    "    X_train, y_train = X_train.to(device), y_train.to(device)\n",
    "    # 모델과 입력 데이터를 같은 장치(device)에서 처리해야 연산 오류가 발생하지 않습니다.\n",
    "    preds = model(X_train) # 모델 예측값 도출\n",
    "\n",
    "    loss = criterian(preds,y_train) # 손실함수 계산\n",
    "    loss.backward() # 역전파\n",
    "    optim.step() # 가중치 업데이트\n",
    "\n",
    "    # if (epoch+1) %\n",
    "    # 정확도 계산\n",
    "    yhat = torch.argmax(preds, dim=1)\n",
    "    # 예측값중에서 최대값을 가진 값의 인덱스 추출\n",
    "    acc = (yhat == y_train).float().mean() # 정확도\n",
    "    print(f'epoch : {epoch+1}, acc : {acc}')"
   ]
  },
  {
   "cell_type": "code",
   "execution_count": null,
   "id": "504d8854",
   "metadata": {},
   "outputs": [],
   "source": [
    "# model을 정의를 다시해줘야한다. 계속 학습이 쌓이기 때문에 정확도가 오른다. ^"
   ]
  }
 ],
 "metadata": {
  "kernelspec": {
   "display_name": ".venv",
   "language": "python",
   "name": "python3"
  },
  "language_info": {
   "codemirror_mode": {
    "name": "ipython",
    "version": 3
   },
   "file_extension": ".py",
   "mimetype": "text/x-python",
   "name": "python",
   "nbconvert_exporter": "python",
   "pygments_lexer": "ipython3",
   "version": "3.13.7"
  }
 },
 "nbformat": 4,
 "nbformat_minor": 5
}
